{
 "cells": [
  {
   "cell_type": "code",
   "execution_count": 1,
   "id": "0d27bd1f",
   "metadata": {
    "_cell_guid": "b1076dfc-b9ad-4769-8c92-a6c4dae69d19",
    "_uuid": "8f2839f25d086af736a60e9eeb907d3b93b6e0e5",
    "execution": {
     "iopub.execute_input": "2022-07-12T10:07:41.674225Z",
     "iopub.status.busy": "2022-07-12T10:07:41.673357Z",
     "iopub.status.idle": "2022-07-12T10:07:41.699744Z",
     "shell.execute_reply": "2022-07-12T10:07:41.698377Z"
    },
    "papermill": {
     "duration": 0.044929,
     "end_time": "2022-07-12T10:07:41.702689",
     "exception": false,
     "start_time": "2022-07-12T10:07:41.657760",
     "status": "completed"
    },
    "tags": []
   },
   "outputs": [
    {
     "name": "stdout",
     "output_type": "stream",
     "text": [
      "/kaggle/input/nyse/prices-split-adjusted.csv\n",
      "/kaggle/input/nyse/fundamentals.csv\n",
      "/kaggle/input/nyse/prices.csv\n",
      "/kaggle/input/nyse/securities.csv\n"
     ]
    }
   ],
   "source": [
    "# This Python 3 environment comes with many helpful analytics libraries installed\n",
    "# It is defined by the kaggle/python Docker image: https://github.com/kaggle/docker-python\n",
    "# For example, here's several helpful packages to load\n",
    "\n",
    "import numpy as np # linear algebra\n",
    "import pandas as pd # data processing, CSV file I/O (e.g. pd.read_csv)\n",
    "from matplotlib import pyplot as plt #data Visualisation\n",
    "\n",
    "# Input data files are available in the read-only \"../input/\" directory\n",
    "# For example, running this (by clicking run or pressing Shift+Enter) will list all files under the input directory\n",
    "\n",
    "import os\n",
    "for dirname, _, filenames in os.walk('/kaggle/input'):\n",
    "    for filename in filenames:\n",
    "        print(os.path.join(dirname, filename))\n",
    "\n",
    "# You can write up to 20GB to the current directory (/kaggle/working/) that gets preserved as output when you create a version using \"Save & Run All\" \n",
    "# You can also write temporary files to /kaggle/temp/, but they won't be saved outside of the current session"
   ]
  },
  {
   "cell_type": "code",
   "execution_count": 2,
   "id": "79a28c90",
   "metadata": {
    "execution": {
     "iopub.execute_input": "2022-07-12T10:07:41.729205Z",
     "iopub.status.busy": "2022-07-12T10:07:41.728409Z",
     "iopub.status.idle": "2022-07-12T10:07:43.466757Z",
     "shell.execute_reply": "2022-07-12T10:07:43.465431Z"
    },
    "papermill": {
     "duration": 1.754691,
     "end_time": "2022-07-12T10:07:43.469358",
     "exception": false,
     "start_time": "2022-07-12T10:07:41.714667",
     "status": "completed"
    },
    "tags": []
   },
   "outputs": [
    {
     "data": {
      "text/html": [
       "<div>\n",
       "<style scoped>\n",
       "    .dataframe tbody tr th:only-of-type {\n",
       "        vertical-align: middle;\n",
       "    }\n",
       "\n",
       "    .dataframe tbody tr th {\n",
       "        vertical-align: top;\n",
       "    }\n",
       "\n",
       "    .dataframe thead th {\n",
       "        text-align: right;\n",
       "    }\n",
       "</style>\n",
       "<table border=\"1\" class=\"dataframe\">\n",
       "  <thead>\n",
       "    <tr style=\"text-align: right;\">\n",
       "      <th></th>\n",
       "      <th>date</th>\n",
       "      <th>symbol</th>\n",
       "      <th>open</th>\n",
       "      <th>close</th>\n",
       "      <th>low</th>\n",
       "      <th>high</th>\n",
       "      <th>volume</th>\n",
       "    </tr>\n",
       "  </thead>\n",
       "  <tbody>\n",
       "    <tr>\n",
       "      <th>0</th>\n",
       "      <td>2016-01-05</td>\n",
       "      <td>WLTW</td>\n",
       "      <td>123.430000</td>\n",
       "      <td>125.839996</td>\n",
       "      <td>122.309998</td>\n",
       "      <td>126.250000</td>\n",
       "      <td>2163600.0</td>\n",
       "    </tr>\n",
       "    <tr>\n",
       "      <th>1</th>\n",
       "      <td>2016-01-06</td>\n",
       "      <td>WLTW</td>\n",
       "      <td>125.239998</td>\n",
       "      <td>119.980003</td>\n",
       "      <td>119.940002</td>\n",
       "      <td>125.540001</td>\n",
       "      <td>2386400.0</td>\n",
       "    </tr>\n",
       "    <tr>\n",
       "      <th>2</th>\n",
       "      <td>2016-01-07</td>\n",
       "      <td>WLTW</td>\n",
       "      <td>116.379997</td>\n",
       "      <td>114.949997</td>\n",
       "      <td>114.930000</td>\n",
       "      <td>119.739998</td>\n",
       "      <td>2489500.0</td>\n",
       "    </tr>\n",
       "    <tr>\n",
       "      <th>3</th>\n",
       "      <td>2016-01-08</td>\n",
       "      <td>WLTW</td>\n",
       "      <td>115.480003</td>\n",
       "      <td>116.620003</td>\n",
       "      <td>113.500000</td>\n",
       "      <td>117.440002</td>\n",
       "      <td>2006300.0</td>\n",
       "    </tr>\n",
       "    <tr>\n",
       "      <th>4</th>\n",
       "      <td>2016-01-11</td>\n",
       "      <td>WLTW</td>\n",
       "      <td>117.010002</td>\n",
       "      <td>114.970001</td>\n",
       "      <td>114.089996</td>\n",
       "      <td>117.330002</td>\n",
       "      <td>1408600.0</td>\n",
       "    </tr>\n",
       "    <tr>\n",
       "      <th>5</th>\n",
       "      <td>2016-01-12</td>\n",
       "      <td>WLTW</td>\n",
       "      <td>115.510002</td>\n",
       "      <td>115.550003</td>\n",
       "      <td>114.500000</td>\n",
       "      <td>116.059998</td>\n",
       "      <td>1098000.0</td>\n",
       "    </tr>\n",
       "    <tr>\n",
       "      <th>6</th>\n",
       "      <td>2016-01-13</td>\n",
       "      <td>WLTW</td>\n",
       "      <td>116.459999</td>\n",
       "      <td>112.849998</td>\n",
       "      <td>112.589996</td>\n",
       "      <td>117.070000</td>\n",
       "      <td>949600.0</td>\n",
       "    </tr>\n",
       "    <tr>\n",
       "      <th>7</th>\n",
       "      <td>2016-01-14</td>\n",
       "      <td>WLTW</td>\n",
       "      <td>113.510002</td>\n",
       "      <td>114.379997</td>\n",
       "      <td>110.050003</td>\n",
       "      <td>115.029999</td>\n",
       "      <td>785300.0</td>\n",
       "    </tr>\n",
       "    <tr>\n",
       "      <th>8</th>\n",
       "      <td>2016-01-15</td>\n",
       "      <td>WLTW</td>\n",
       "      <td>113.330002</td>\n",
       "      <td>112.529999</td>\n",
       "      <td>111.919998</td>\n",
       "      <td>114.879997</td>\n",
       "      <td>1093700.0</td>\n",
       "    </tr>\n",
       "    <tr>\n",
       "      <th>9</th>\n",
       "      <td>2016-01-19</td>\n",
       "      <td>WLTW</td>\n",
       "      <td>113.660004</td>\n",
       "      <td>110.379997</td>\n",
       "      <td>109.870003</td>\n",
       "      <td>115.870003</td>\n",
       "      <td>1523500.0</td>\n",
       "    </tr>\n",
       "  </tbody>\n",
       "</table>\n",
       "</div>"
      ],
      "text/plain": [
       "         date symbol        open       close         low        high  \\\n",
       "0  2016-01-05   WLTW  123.430000  125.839996  122.309998  126.250000   \n",
       "1  2016-01-06   WLTW  125.239998  119.980003  119.940002  125.540001   \n",
       "2  2016-01-07   WLTW  116.379997  114.949997  114.930000  119.739998   \n",
       "3  2016-01-08   WLTW  115.480003  116.620003  113.500000  117.440002   \n",
       "4  2016-01-11   WLTW  117.010002  114.970001  114.089996  117.330002   \n",
       "5  2016-01-12   WLTW  115.510002  115.550003  114.500000  116.059998   \n",
       "6  2016-01-13   WLTW  116.459999  112.849998  112.589996  117.070000   \n",
       "7  2016-01-14   WLTW  113.510002  114.379997  110.050003  115.029999   \n",
       "8  2016-01-15   WLTW  113.330002  112.529999  111.919998  114.879997   \n",
       "9  2016-01-19   WLTW  113.660004  110.379997  109.870003  115.870003   \n",
       "\n",
       "      volume  \n",
       "0  2163600.0  \n",
       "1  2386400.0  \n",
       "2  2489500.0  \n",
       "3  2006300.0  \n",
       "4  1408600.0  \n",
       "5  1098000.0  \n",
       "6   949600.0  \n",
       "7   785300.0  \n",
       "8  1093700.0  \n",
       "9  1523500.0  "
      ]
     },
     "execution_count": 2,
     "metadata": {},
     "output_type": "execute_result"
    }
   ],
   "source": [
    "# Reading data\n",
    "data = pd.read_csv('/kaggle/input/nyse/prices-split-adjusted.csv')\n",
    "data.head(10)\n"
   ]
  },
  {
   "cell_type": "code",
   "execution_count": 3,
   "id": "c5e9a0ae",
   "metadata": {
    "execution": {
     "iopub.execute_input": "2022-07-12T10:07:43.495994Z",
     "iopub.status.busy": "2022-07-12T10:07:43.495139Z",
     "iopub.status.idle": "2022-07-12T10:07:43.503177Z",
     "shell.execute_reply": "2022-07-12T10:07:43.501856Z"
    },
    "papermill": {
     "duration": 0.024165,
     "end_time": "2022-07-12T10:07:43.505730",
     "exception": false,
     "start_time": "2022-07-12T10:07:43.481565",
     "status": "completed"
    },
    "tags": []
   },
   "outputs": [
    {
     "data": {
      "text/plain": [
       "(851264, 7)"
      ]
     },
     "execution_count": 3,
     "metadata": {},
     "output_type": "execute_result"
    }
   ],
   "source": [
    "#shape of input data\n",
    "data.shape"
   ]
  },
  {
   "cell_type": "code",
   "execution_count": 4,
   "id": "b117a7b2",
   "metadata": {
    "execution": {
     "iopub.execute_input": "2022-07-12T10:07:43.532765Z",
     "iopub.status.busy": "2022-07-12T10:07:43.532316Z",
     "iopub.status.idle": "2022-07-12T10:07:43.540778Z",
     "shell.execute_reply": "2022-07-12T10:07:43.539538Z"
    },
    "papermill": {
     "duration": 0.025276,
     "end_time": "2022-07-12T10:07:43.543197",
     "exception": false,
     "start_time": "2022-07-12T10:07:43.517921",
     "status": "completed"
    },
    "tags": []
   },
   "outputs": [
    {
     "data": {
      "text/plain": [
       "Index(['date', 'symbol', 'open', 'close', 'low', 'high', 'volume'], dtype='object')"
      ]
     },
     "execution_count": 4,
     "metadata": {},
     "output_type": "execute_result"
    }
   ],
   "source": [
    "data.columns"
   ]
  },
  {
   "cell_type": "code",
   "execution_count": 5,
   "id": "15a945a6",
   "metadata": {
    "execution": {
     "iopub.execute_input": "2022-07-12T10:07:43.571309Z",
     "iopub.status.busy": "2022-07-12T10:07:43.570918Z",
     "iopub.status.idle": "2022-07-12T10:07:43.591861Z",
     "shell.execute_reply": "2022-07-12T10:07:43.590686Z"
    },
    "papermill": {
     "duration": 0.03805,
     "end_time": "2022-07-12T10:07:43.594188",
     "exception": false,
     "start_time": "2022-07-12T10:07:43.556138",
     "status": "completed"
    },
    "tags": []
   },
   "outputs": [
    {
     "data": {
      "text/html": [
       "<div>\n",
       "<style scoped>\n",
       "    .dataframe tbody tr th:only-of-type {\n",
       "        vertical-align: middle;\n",
       "    }\n",
       "\n",
       "    .dataframe tbody tr th {\n",
       "        vertical-align: top;\n",
       "    }\n",
       "\n",
       "    .dataframe thead th {\n",
       "        text-align: right;\n",
       "    }\n",
       "</style>\n",
       "<table border=\"1\" class=\"dataframe\">\n",
       "  <thead>\n",
       "    <tr style=\"text-align: right;\">\n",
       "      <th></th>\n",
       "      <th>date</th>\n",
       "      <th>symbol</th>\n",
       "      <th>open</th>\n",
       "      <th>close</th>\n",
       "      <th>low</th>\n",
       "      <th>high</th>\n",
       "      <th>volume</th>\n",
       "    </tr>\n",
       "  </thead>\n",
       "  <tbody>\n",
       "    <tr>\n",
       "      <th>0</th>\n",
       "      <td>2016-01-05</td>\n",
       "      <td>WLTW</td>\n",
       "      <td>123.430000</td>\n",
       "      <td>125.839996</td>\n",
       "      <td>122.309998</td>\n",
       "      <td>126.250000</td>\n",
       "      <td>2163600.0</td>\n",
       "    </tr>\n",
       "    <tr>\n",
       "      <th>1</th>\n",
       "      <td>2016-01-06</td>\n",
       "      <td>WLTW</td>\n",
       "      <td>125.239998</td>\n",
       "      <td>119.980003</td>\n",
       "      <td>119.940002</td>\n",
       "      <td>125.540001</td>\n",
       "      <td>2386400.0</td>\n",
       "    </tr>\n",
       "    <tr>\n",
       "      <th>2</th>\n",
       "      <td>2016-01-07</td>\n",
       "      <td>WLTW</td>\n",
       "      <td>116.379997</td>\n",
       "      <td>114.949997</td>\n",
       "      <td>114.930000</td>\n",
       "      <td>119.739998</td>\n",
       "      <td>2489500.0</td>\n",
       "    </tr>\n",
       "    <tr>\n",
       "      <th>3</th>\n",
       "      <td>2016-01-08</td>\n",
       "      <td>WLTW</td>\n",
       "      <td>115.480003</td>\n",
       "      <td>116.620003</td>\n",
       "      <td>113.500000</td>\n",
       "      <td>117.440002</td>\n",
       "      <td>2006300.0</td>\n",
       "    </tr>\n",
       "    <tr>\n",
       "      <th>4</th>\n",
       "      <td>2016-01-11</td>\n",
       "      <td>WLTW</td>\n",
       "      <td>117.010002</td>\n",
       "      <td>114.970001</td>\n",
       "      <td>114.089996</td>\n",
       "      <td>117.330002</td>\n",
       "      <td>1408600.0</td>\n",
       "    </tr>\n",
       "    <tr>\n",
       "      <th>...</th>\n",
       "      <td>...</td>\n",
       "      <td>...</td>\n",
       "      <td>...</td>\n",
       "      <td>...</td>\n",
       "      <td>...</td>\n",
       "      <td>...</td>\n",
       "      <td>...</td>\n",
       "    </tr>\n",
       "    <tr>\n",
       "      <th>851259</th>\n",
       "      <td>2016-12-30</td>\n",
       "      <td>ZBH</td>\n",
       "      <td>103.309998</td>\n",
       "      <td>103.199997</td>\n",
       "      <td>102.849998</td>\n",
       "      <td>103.930000</td>\n",
       "      <td>973800.0</td>\n",
       "    </tr>\n",
       "    <tr>\n",
       "      <th>851260</th>\n",
       "      <td>2016-12-30</td>\n",
       "      <td>ZION</td>\n",
       "      <td>43.070000</td>\n",
       "      <td>43.040001</td>\n",
       "      <td>42.689999</td>\n",
       "      <td>43.310001</td>\n",
       "      <td>1938100.0</td>\n",
       "    </tr>\n",
       "    <tr>\n",
       "      <th>851261</th>\n",
       "      <td>2016-12-30</td>\n",
       "      <td>ZTS</td>\n",
       "      <td>53.639999</td>\n",
       "      <td>53.529999</td>\n",
       "      <td>53.270000</td>\n",
       "      <td>53.740002</td>\n",
       "      <td>1701200.0</td>\n",
       "    </tr>\n",
       "    <tr>\n",
       "      <th>851262</th>\n",
       "      <td>2016-12-30</td>\n",
       "      <td>AIV</td>\n",
       "      <td>44.730000</td>\n",
       "      <td>45.450001</td>\n",
       "      <td>44.410000</td>\n",
       "      <td>45.590000</td>\n",
       "      <td>1380900.0</td>\n",
       "    </tr>\n",
       "    <tr>\n",
       "      <th>851263</th>\n",
       "      <td>2016-12-30</td>\n",
       "      <td>FTV</td>\n",
       "      <td>54.200001</td>\n",
       "      <td>53.630001</td>\n",
       "      <td>53.389999</td>\n",
       "      <td>54.480000</td>\n",
       "      <td>705100.0</td>\n",
       "    </tr>\n",
       "  </tbody>\n",
       "</table>\n",
       "<p>851264 rows × 7 columns</p>\n",
       "</div>"
      ],
      "text/plain": [
       "              date symbol        open       close         low        high  \\\n",
       "0       2016-01-05   WLTW  123.430000  125.839996  122.309998  126.250000   \n",
       "1       2016-01-06   WLTW  125.239998  119.980003  119.940002  125.540001   \n",
       "2       2016-01-07   WLTW  116.379997  114.949997  114.930000  119.739998   \n",
       "3       2016-01-08   WLTW  115.480003  116.620003  113.500000  117.440002   \n",
       "4       2016-01-11   WLTW  117.010002  114.970001  114.089996  117.330002   \n",
       "...            ...    ...         ...         ...         ...         ...   \n",
       "851259  2016-12-30    ZBH  103.309998  103.199997  102.849998  103.930000   \n",
       "851260  2016-12-30   ZION   43.070000   43.040001   42.689999   43.310001   \n",
       "851261  2016-12-30    ZTS   53.639999   53.529999   53.270000   53.740002   \n",
       "851262  2016-12-30    AIV   44.730000   45.450001   44.410000   45.590000   \n",
       "851263  2016-12-30    FTV   54.200001   53.630001   53.389999   54.480000   \n",
       "\n",
       "           volume  \n",
       "0       2163600.0  \n",
       "1       2386400.0  \n",
       "2       2489500.0  \n",
       "3       2006300.0  \n",
       "4       1408600.0  \n",
       "...           ...  \n",
       "851259   973800.0  \n",
       "851260  1938100.0  \n",
       "851261  1701200.0  \n",
       "851262  1380900.0  \n",
       "851263   705100.0  \n",
       "\n",
       "[851264 rows x 7 columns]"
      ]
     },
     "execution_count": 5,
     "metadata": {},
     "output_type": "execute_result"
    }
   ],
   "source": [
    "data"
   ]
  },
  {
   "cell_type": "code",
   "execution_count": 6,
   "id": "ee8504c1",
   "metadata": {
    "execution": {
     "iopub.execute_input": "2022-07-12T10:07:43.621649Z",
     "iopub.status.busy": "2022-07-12T10:07:43.621199Z",
     "iopub.status.idle": "2022-07-12T10:07:43.935732Z",
     "shell.execute_reply": "2022-07-12T10:07:43.934525Z"
    },
    "papermill": {
     "duration": 0.331325,
     "end_time": "2022-07-12T10:07:43.938204",
     "exception": false,
     "start_time": "2022-07-12T10:07:43.606879",
     "status": "completed"
    },
    "tags": []
   },
   "outputs": [
    {
     "data": {
      "text/html": [
       "<div>\n",
       "<style scoped>\n",
       "    .dataframe tbody tr th:only-of-type {\n",
       "        vertical-align: middle;\n",
       "    }\n",
       "\n",
       "    .dataframe tbody tr th {\n",
       "        vertical-align: top;\n",
       "    }\n",
       "\n",
       "    .dataframe thead th {\n",
       "        text-align: right;\n",
       "    }\n",
       "</style>\n",
       "<table border=\"1\" class=\"dataframe\">\n",
       "  <thead>\n",
       "    <tr style=\"text-align: right;\">\n",
       "      <th></th>\n",
       "      <th>open</th>\n",
       "      <th>close</th>\n",
       "      <th>low</th>\n",
       "      <th>high</th>\n",
       "      <th>volume</th>\n",
       "    </tr>\n",
       "  </thead>\n",
       "  <tbody>\n",
       "    <tr>\n",
       "      <th>count</th>\n",
       "      <td>851264.000000</td>\n",
       "      <td>851264.000000</td>\n",
       "      <td>851264.000000</td>\n",
       "      <td>851264.000000</td>\n",
       "      <td>8.512640e+05</td>\n",
       "    </tr>\n",
       "    <tr>\n",
       "      <th>mean</th>\n",
       "      <td>64.993618</td>\n",
       "      <td>65.011913</td>\n",
       "      <td>64.336541</td>\n",
       "      <td>65.639748</td>\n",
       "      <td>5.415113e+06</td>\n",
       "    </tr>\n",
       "    <tr>\n",
       "      <th>std</th>\n",
       "      <td>75.203893</td>\n",
       "      <td>75.201216</td>\n",
       "      <td>74.459518</td>\n",
       "      <td>75.906861</td>\n",
       "      <td>1.249468e+07</td>\n",
       "    </tr>\n",
       "    <tr>\n",
       "      <th>min</th>\n",
       "      <td>1.660000</td>\n",
       "      <td>1.590000</td>\n",
       "      <td>1.500000</td>\n",
       "      <td>1.810000</td>\n",
       "      <td>0.000000e+00</td>\n",
       "    </tr>\n",
       "    <tr>\n",
       "      <th>25%</th>\n",
       "      <td>31.270000</td>\n",
       "      <td>31.292776</td>\n",
       "      <td>30.940001</td>\n",
       "      <td>31.620001</td>\n",
       "      <td>1.221500e+06</td>\n",
       "    </tr>\n",
       "    <tr>\n",
       "      <th>50%</th>\n",
       "      <td>48.459999</td>\n",
       "      <td>48.480000</td>\n",
       "      <td>47.970001</td>\n",
       "      <td>48.959999</td>\n",
       "      <td>2.476250e+06</td>\n",
       "    </tr>\n",
       "    <tr>\n",
       "      <th>75%</th>\n",
       "      <td>75.120003</td>\n",
       "      <td>75.139999</td>\n",
       "      <td>74.400002</td>\n",
       "      <td>75.849998</td>\n",
       "      <td>5.222500e+06</td>\n",
       "    </tr>\n",
       "    <tr>\n",
       "      <th>max</th>\n",
       "      <td>1584.439941</td>\n",
       "      <td>1578.130005</td>\n",
       "      <td>1549.939941</td>\n",
       "      <td>1600.930054</td>\n",
       "      <td>8.596434e+08</td>\n",
       "    </tr>\n",
       "  </tbody>\n",
       "</table>\n",
       "</div>"
      ],
      "text/plain": [
       "                open          close            low           high  \\\n",
       "count  851264.000000  851264.000000  851264.000000  851264.000000   \n",
       "mean       64.993618      65.011913      64.336541      65.639748   \n",
       "std        75.203893      75.201216      74.459518      75.906861   \n",
       "min         1.660000       1.590000       1.500000       1.810000   \n",
       "25%        31.270000      31.292776      30.940001      31.620001   \n",
       "50%        48.459999      48.480000      47.970001      48.959999   \n",
       "75%        75.120003      75.139999      74.400002      75.849998   \n",
       "max      1584.439941    1578.130005    1549.939941    1600.930054   \n",
       "\n",
       "             volume  \n",
       "count  8.512640e+05  \n",
       "mean   5.415113e+06  \n",
       "std    1.249468e+07  \n",
       "min    0.000000e+00  \n",
       "25%    1.221500e+06  \n",
       "50%    2.476250e+06  \n",
       "75%    5.222500e+06  \n",
       "max    8.596434e+08  "
      ]
     },
     "execution_count": 6,
     "metadata": {},
     "output_type": "execute_result"
    }
   ],
   "source": [
    "data.describe()"
   ]
  },
  {
   "cell_type": "code",
   "execution_count": 7,
   "id": "ba2deb0c",
   "metadata": {
    "execution": {
     "iopub.execute_input": "2022-07-12T10:07:43.965852Z",
     "iopub.status.busy": "2022-07-12T10:07:43.965404Z",
     "iopub.status.idle": "2022-07-12T10:07:44.168765Z",
     "shell.execute_reply": "2022-07-12T10:07:44.167384Z"
    },
    "papermill": {
     "duration": 0.220307,
     "end_time": "2022-07-12T10:07:44.171447",
     "exception": false,
     "start_time": "2022-07-12T10:07:43.951140",
     "status": "completed"
    },
    "tags": []
   },
   "outputs": [
    {
     "data": {
      "text/plain": [
       "date      0\n",
       "symbol    0\n",
       "open      0\n",
       "close     0\n",
       "low       0\n",
       "high      0\n",
       "volume    0\n",
       "dtype: int64"
      ]
     },
     "execution_count": 7,
     "metadata": {},
     "output_type": "execute_result"
    }
   ],
   "source": [
    "data.isnull().sum()"
   ]
  },
  {
   "cell_type": "code",
   "execution_count": 8,
   "id": "b9d411ba",
   "metadata": {
    "execution": {
     "iopub.execute_input": "2022-07-12T10:07:44.199672Z",
     "iopub.status.busy": "2022-07-12T10:07:44.199240Z",
     "iopub.status.idle": "2022-07-12T10:07:44.362940Z",
     "shell.execute_reply": "2022-07-12T10:07:44.361388Z"
    },
    "papermill": {
     "duration": 0.181722,
     "end_time": "2022-07-12T10:07:44.366239",
     "exception": false,
     "start_time": "2022-07-12T10:07:44.184517",
     "status": "completed"
    },
    "tags": []
   },
   "outputs": [
    {
     "name": "stdout",
     "output_type": "stream",
     "text": [
      "datetime64[ns]\n"
     ]
    }
   ],
   "source": [
    "data['date']=pd.to_datetime(data['date'])\n",
    "print(data['date'].dtype)"
   ]
  },
  {
   "cell_type": "code",
   "execution_count": 9,
   "id": "409d43bb",
   "metadata": {
    "execution": {
     "iopub.execute_input": "2022-07-12T10:07:44.395665Z",
     "iopub.status.busy": "2022-07-12T10:07:44.394455Z",
     "iopub.status.idle": "2022-07-12T10:07:44.402424Z",
     "shell.execute_reply": "2022-07-12T10:07:44.401017Z"
    },
    "papermill": {
     "duration": 0.026166,
     "end_time": "2022-07-12T10:07:44.405475",
     "exception": false,
     "start_time": "2022-07-12T10:07:44.379309",
     "status": "completed"
    },
    "tags": []
   },
   "outputs": [
    {
     "data": {
      "text/plain": [
       "Index(['date', 'symbol', 'open', 'close', 'low', 'high', 'volume'], dtype='object')"
      ]
     },
     "execution_count": 9,
     "metadata": {},
     "output_type": "execute_result"
    }
   ],
   "source": [
    "data.columns"
   ]
  },
  {
   "cell_type": "code",
   "execution_count": 10,
   "id": "9fe763d9",
   "metadata": {
    "execution": {
     "iopub.execute_input": "2022-07-12T10:07:44.434411Z",
     "iopub.status.busy": "2022-07-12T10:07:44.433975Z",
     "iopub.status.idle": "2022-07-12T10:07:44.466084Z",
     "shell.execute_reply": "2022-07-12T10:07:44.464832Z"
    },
    "papermill": {
     "duration": 0.049907,
     "end_time": "2022-07-12T10:07:44.468780",
     "exception": false,
     "start_time": "2022-07-12T10:07:44.418873",
     "status": "completed"
    },
    "tags": []
   },
   "outputs": [],
   "source": [
    "data=data.set_index('date')"
   ]
  },
  {
   "cell_type": "code",
   "execution_count": 11,
   "id": "1469d736",
   "metadata": {
    "execution": {
     "iopub.execute_input": "2022-07-12T10:07:44.498349Z",
     "iopub.status.busy": "2022-07-12T10:07:44.497023Z",
     "iopub.status.idle": "2022-07-12T10:07:44.504187Z",
     "shell.execute_reply": "2022-07-12T10:07:44.503325Z"
    },
    "papermill": {
     "duration": 0.024318,
     "end_time": "2022-07-12T10:07:44.506351",
     "exception": false,
     "start_time": "2022-07-12T10:07:44.482033",
     "status": "completed"
    },
    "tags": []
   },
   "outputs": [
    {
     "data": {
      "text/plain": [
       "Index(['symbol', 'open', 'close', 'low', 'high', 'volume'], dtype='object')"
      ]
     },
     "execution_count": 11,
     "metadata": {},
     "output_type": "execute_result"
    }
   ],
   "source": [
    "data.columns"
   ]
  },
  {
   "cell_type": "code",
   "execution_count": 12,
   "id": "6619e962",
   "metadata": {
    "execution": {
     "iopub.execute_input": "2022-07-12T10:07:44.536217Z",
     "iopub.status.busy": "2022-07-12T10:07:44.535808Z",
     "iopub.status.idle": "2022-07-12T10:07:44.668788Z",
     "shell.execute_reply": "2022-07-12T10:07:44.667546Z"
    },
    "papermill": {
     "duration": 0.151076,
     "end_time": "2022-07-12T10:07:44.671516",
     "exception": false,
     "start_time": "2022-07-12T10:07:44.520440",
     "status": "completed"
    },
    "tags": []
   },
   "outputs": [],
   "source": [
    "df_AAPL=data[data['symbol']== 'AAPL']\n"
   ]
  },
  {
   "cell_type": "code",
   "execution_count": 13,
   "id": "04780aed",
   "metadata": {
    "execution": {
     "iopub.execute_input": "2022-07-12T10:07:44.700723Z",
     "iopub.status.busy": "2022-07-12T10:07:44.700263Z",
     "iopub.status.idle": "2022-07-12T10:07:44.722512Z",
     "shell.execute_reply": "2022-07-12T10:07:44.721383Z"
    },
    "papermill": {
     "duration": 0.039969,
     "end_time": "2022-07-12T10:07:44.725163",
     "exception": false,
     "start_time": "2022-07-12T10:07:44.685194",
     "status": "completed"
    },
    "tags": []
   },
   "outputs": [
    {
     "data": {
      "text/html": [
       "<div>\n",
       "<style scoped>\n",
       "    .dataframe tbody tr th:only-of-type {\n",
       "        vertical-align: middle;\n",
       "    }\n",
       "\n",
       "    .dataframe tbody tr th {\n",
       "        vertical-align: top;\n",
       "    }\n",
       "\n",
       "    .dataframe thead th {\n",
       "        text-align: right;\n",
       "    }\n",
       "</style>\n",
       "<table border=\"1\" class=\"dataframe\">\n",
       "  <thead>\n",
       "    <tr style=\"text-align: right;\">\n",
       "      <th></th>\n",
       "      <th>symbol</th>\n",
       "      <th>open</th>\n",
       "      <th>close</th>\n",
       "      <th>low</th>\n",
       "      <th>high</th>\n",
       "      <th>volume</th>\n",
       "    </tr>\n",
       "    <tr>\n",
       "      <th>date</th>\n",
       "      <th></th>\n",
       "      <th></th>\n",
       "      <th></th>\n",
       "      <th></th>\n",
       "      <th></th>\n",
       "      <th></th>\n",
       "    </tr>\n",
       "  </thead>\n",
       "  <tbody>\n",
       "    <tr>\n",
       "      <th>2010-01-04</th>\n",
       "      <td>AAPL</td>\n",
       "      <td>30.490000</td>\n",
       "      <td>30.572857</td>\n",
       "      <td>30.340000</td>\n",
       "      <td>30.642857</td>\n",
       "      <td>123432400.0</td>\n",
       "    </tr>\n",
       "    <tr>\n",
       "      <th>2010-01-05</th>\n",
       "      <td>AAPL</td>\n",
       "      <td>30.657143</td>\n",
       "      <td>30.625713</td>\n",
       "      <td>30.464285</td>\n",
       "      <td>30.798571</td>\n",
       "      <td>150476200.0</td>\n",
       "    </tr>\n",
       "    <tr>\n",
       "      <th>2010-01-06</th>\n",
       "      <td>AAPL</td>\n",
       "      <td>30.625713</td>\n",
       "      <td>30.138571</td>\n",
       "      <td>30.107143</td>\n",
       "      <td>30.747143</td>\n",
       "      <td>138040000.0</td>\n",
       "    </tr>\n",
       "    <tr>\n",
       "      <th>2010-01-07</th>\n",
       "      <td>AAPL</td>\n",
       "      <td>30.250000</td>\n",
       "      <td>30.082857</td>\n",
       "      <td>29.864286</td>\n",
       "      <td>30.285715</td>\n",
       "      <td>119282800.0</td>\n",
       "    </tr>\n",
       "    <tr>\n",
       "      <th>2010-01-08</th>\n",
       "      <td>AAPL</td>\n",
       "      <td>30.042856</td>\n",
       "      <td>30.282858</td>\n",
       "      <td>29.865715</td>\n",
       "      <td>30.285715</td>\n",
       "      <td>111902700.0</td>\n",
       "    </tr>\n",
       "    <tr>\n",
       "      <th>...</th>\n",
       "      <td>...</td>\n",
       "      <td>...</td>\n",
       "      <td>...</td>\n",
       "      <td>...</td>\n",
       "      <td>...</td>\n",
       "      <td>...</td>\n",
       "    </tr>\n",
       "    <tr>\n",
       "      <th>2016-12-23</th>\n",
       "      <td>AAPL</td>\n",
       "      <td>115.589996</td>\n",
       "      <td>116.519997</td>\n",
       "      <td>115.589996</td>\n",
       "      <td>116.519997</td>\n",
       "      <td>14249500.0</td>\n",
       "    </tr>\n",
       "    <tr>\n",
       "      <th>2016-12-27</th>\n",
       "      <td>AAPL</td>\n",
       "      <td>116.519997</td>\n",
       "      <td>117.260002</td>\n",
       "      <td>116.489998</td>\n",
       "      <td>117.800003</td>\n",
       "      <td>18296900.0</td>\n",
       "    </tr>\n",
       "    <tr>\n",
       "      <th>2016-12-28</th>\n",
       "      <td>AAPL</td>\n",
       "      <td>117.519997</td>\n",
       "      <td>116.760002</td>\n",
       "      <td>116.199997</td>\n",
       "      <td>118.019997</td>\n",
       "      <td>20905900.0</td>\n",
       "    </tr>\n",
       "    <tr>\n",
       "      <th>2016-12-29</th>\n",
       "      <td>AAPL</td>\n",
       "      <td>116.449997</td>\n",
       "      <td>116.730003</td>\n",
       "      <td>116.400002</td>\n",
       "      <td>117.110001</td>\n",
       "      <td>15039500.0</td>\n",
       "    </tr>\n",
       "    <tr>\n",
       "      <th>2016-12-30</th>\n",
       "      <td>AAPL</td>\n",
       "      <td>116.650002</td>\n",
       "      <td>115.820000</td>\n",
       "      <td>115.430000</td>\n",
       "      <td>117.199997</td>\n",
       "      <td>30586300.0</td>\n",
       "    </tr>\n",
       "  </tbody>\n",
       "</table>\n",
       "<p>1762 rows × 6 columns</p>\n",
       "</div>"
      ],
      "text/plain": [
       "           symbol        open       close         low        high       volume\n",
       "date                                                                          \n",
       "2010-01-04   AAPL   30.490000   30.572857   30.340000   30.642857  123432400.0\n",
       "2010-01-05   AAPL   30.657143   30.625713   30.464285   30.798571  150476200.0\n",
       "2010-01-06   AAPL   30.625713   30.138571   30.107143   30.747143  138040000.0\n",
       "2010-01-07   AAPL   30.250000   30.082857   29.864286   30.285715  119282800.0\n",
       "2010-01-08   AAPL   30.042856   30.282858   29.865715   30.285715  111902700.0\n",
       "...           ...         ...         ...         ...         ...          ...\n",
       "2016-12-23   AAPL  115.589996  116.519997  115.589996  116.519997   14249500.0\n",
       "2016-12-27   AAPL  116.519997  117.260002  116.489998  117.800003   18296900.0\n",
       "2016-12-28   AAPL  117.519997  116.760002  116.199997  118.019997   20905900.0\n",
       "2016-12-29   AAPL  116.449997  116.730003  116.400002  117.110001   15039500.0\n",
       "2016-12-30   AAPL  116.650002  115.820000  115.430000  117.199997   30586300.0\n",
       "\n",
       "[1762 rows x 6 columns]"
      ]
     },
     "execution_count": 13,
     "metadata": {},
     "output_type": "execute_result"
    }
   ],
   "source": [
    "df_AAPL.sort_index()"
   ]
  },
  {
   "cell_type": "code",
   "execution_count": 14,
   "id": "7a80016b",
   "metadata": {
    "execution": {
     "iopub.execute_input": "2022-07-12T10:07:44.754815Z",
     "iopub.status.busy": "2022-07-12T10:07:44.754356Z",
     "iopub.status.idle": "2022-07-12T10:07:44.800616Z",
     "shell.execute_reply": "2022-07-12T10:07:44.799670Z"
    },
    "papermill": {
     "duration": 0.064316,
     "end_time": "2022-07-12T10:07:44.803135",
     "exception": false,
     "start_time": "2022-07-12T10:07:44.738819",
     "status": "completed"
    },
    "tags": []
   },
   "outputs": [
    {
     "data": {
      "text/plain": [
       "(1825, 6)"
      ]
     },
     "execution_count": 14,
     "metadata": {},
     "output_type": "execute_result"
    }
   ],
   "source": [
    "AAPL_data=df_AAPL.asfreq('b')\n",
    "AAPL_data.shape"
   ]
  },
  {
   "cell_type": "code",
   "execution_count": 15,
   "id": "3544a29d",
   "metadata": {
    "execution": {
     "iopub.execute_input": "2022-07-12T10:07:44.833692Z",
     "iopub.status.busy": "2022-07-12T10:07:44.832844Z",
     "iopub.status.idle": "2022-07-12T10:07:44.843828Z",
     "shell.execute_reply": "2022-07-12T10:07:44.842681Z"
    },
    "papermill": {
     "duration": 0.029577,
     "end_time": "2022-07-12T10:07:44.846319",
     "exception": false,
     "start_time": "2022-07-12T10:07:44.816742",
     "status": "completed"
    },
    "tags": []
   },
   "outputs": [
    {
     "data": {
      "text/plain": [
       "symbol    63\n",
       "open      63\n",
       "close     63\n",
       "low       63\n",
       "high      63\n",
       "volume    63\n",
       "dtype: int64"
      ]
     },
     "execution_count": 15,
     "metadata": {},
     "output_type": "execute_result"
    }
   ],
   "source": [
    "AAPL_data.isnull().sum()"
   ]
  },
  {
   "cell_type": "code",
   "execution_count": 16,
   "id": "9b96335b",
   "metadata": {
    "execution": {
     "iopub.execute_input": "2022-07-12T10:07:44.878879Z",
     "iopub.status.busy": "2022-07-12T10:07:44.878047Z",
     "iopub.status.idle": "2022-07-12T10:07:44.895989Z",
     "shell.execute_reply": "2022-07-12T10:07:44.894805Z"
    },
    "papermill": {
     "duration": 0.037459,
     "end_time": "2022-07-12T10:07:44.898484",
     "exception": false,
     "start_time": "2022-07-12T10:07:44.861025",
     "status": "completed"
    },
    "tags": []
   },
   "outputs": [
    {
     "data": {
      "text/html": [
       "<div>\n",
       "<style scoped>\n",
       "    .dataframe tbody tr th:only-of-type {\n",
       "        vertical-align: middle;\n",
       "    }\n",
       "\n",
       "    .dataframe tbody tr th {\n",
       "        vertical-align: top;\n",
       "    }\n",
       "\n",
       "    .dataframe thead th {\n",
       "        text-align: right;\n",
       "    }\n",
       "</style>\n",
       "<table border=\"1\" class=\"dataframe\">\n",
       "  <thead>\n",
       "    <tr style=\"text-align: right;\">\n",
       "      <th></th>\n",
       "      <th>symbol</th>\n",
       "      <th>open</th>\n",
       "      <th>close</th>\n",
       "      <th>low</th>\n",
       "      <th>high</th>\n",
       "      <th>volume</th>\n",
       "    </tr>\n",
       "    <tr>\n",
       "      <th>date</th>\n",
       "      <th></th>\n",
       "      <th></th>\n",
       "      <th></th>\n",
       "      <th></th>\n",
       "      <th></th>\n",
       "      <th></th>\n",
       "    </tr>\n",
       "  </thead>\n",
       "  <tbody>\n",
       "    <tr>\n",
       "      <th>2010-01-18</th>\n",
       "      <td>NaN</td>\n",
       "      <td>NaN</td>\n",
       "      <td>NaN</td>\n",
       "      <td>NaN</td>\n",
       "      <td>NaN</td>\n",
       "      <td>NaN</td>\n",
       "    </tr>\n",
       "    <tr>\n",
       "      <th>2010-02-15</th>\n",
       "      <td>NaN</td>\n",
       "      <td>NaN</td>\n",
       "      <td>NaN</td>\n",
       "      <td>NaN</td>\n",
       "      <td>NaN</td>\n",
       "      <td>NaN</td>\n",
       "    </tr>\n",
       "    <tr>\n",
       "      <th>2010-04-02</th>\n",
       "      <td>NaN</td>\n",
       "      <td>NaN</td>\n",
       "      <td>NaN</td>\n",
       "      <td>NaN</td>\n",
       "      <td>NaN</td>\n",
       "      <td>NaN</td>\n",
       "    </tr>\n",
       "    <tr>\n",
       "      <th>2010-05-31</th>\n",
       "      <td>NaN</td>\n",
       "      <td>NaN</td>\n",
       "      <td>NaN</td>\n",
       "      <td>NaN</td>\n",
       "      <td>NaN</td>\n",
       "      <td>NaN</td>\n",
       "    </tr>\n",
       "    <tr>\n",
       "      <th>2010-07-05</th>\n",
       "      <td>NaN</td>\n",
       "      <td>NaN</td>\n",
       "      <td>NaN</td>\n",
       "      <td>NaN</td>\n",
       "      <td>NaN</td>\n",
       "      <td>NaN</td>\n",
       "    </tr>\n",
       "    <tr>\n",
       "      <th>2010-09-06</th>\n",
       "      <td>NaN</td>\n",
       "      <td>NaN</td>\n",
       "      <td>NaN</td>\n",
       "      <td>NaN</td>\n",
       "      <td>NaN</td>\n",
       "      <td>NaN</td>\n",
       "    </tr>\n",
       "    <tr>\n",
       "      <th>2010-11-25</th>\n",
       "      <td>NaN</td>\n",
       "      <td>NaN</td>\n",
       "      <td>NaN</td>\n",
       "      <td>NaN</td>\n",
       "      <td>NaN</td>\n",
       "      <td>NaN</td>\n",
       "    </tr>\n",
       "    <tr>\n",
       "      <th>2010-12-24</th>\n",
       "      <td>NaN</td>\n",
       "      <td>NaN</td>\n",
       "      <td>NaN</td>\n",
       "      <td>NaN</td>\n",
       "      <td>NaN</td>\n",
       "      <td>NaN</td>\n",
       "    </tr>\n",
       "    <tr>\n",
       "      <th>2011-01-17</th>\n",
       "      <td>NaN</td>\n",
       "      <td>NaN</td>\n",
       "      <td>NaN</td>\n",
       "      <td>NaN</td>\n",
       "      <td>NaN</td>\n",
       "      <td>NaN</td>\n",
       "    </tr>\n",
       "    <tr>\n",
       "      <th>2011-02-21</th>\n",
       "      <td>NaN</td>\n",
       "      <td>NaN</td>\n",
       "      <td>NaN</td>\n",
       "      <td>NaN</td>\n",
       "      <td>NaN</td>\n",
       "      <td>NaN</td>\n",
       "    </tr>\n",
       "  </tbody>\n",
       "</table>\n",
       "</div>"
      ],
      "text/plain": [
       "           symbol  open  close  low  high  volume\n",
       "date                                             \n",
       "2010-01-18    NaN   NaN    NaN  NaN   NaN     NaN\n",
       "2010-02-15    NaN   NaN    NaN  NaN   NaN     NaN\n",
       "2010-04-02    NaN   NaN    NaN  NaN   NaN     NaN\n",
       "2010-05-31    NaN   NaN    NaN  NaN   NaN     NaN\n",
       "2010-07-05    NaN   NaN    NaN  NaN   NaN     NaN\n",
       "2010-09-06    NaN   NaN    NaN  NaN   NaN     NaN\n",
       "2010-11-25    NaN   NaN    NaN  NaN   NaN     NaN\n",
       "2010-12-24    NaN   NaN    NaN  NaN   NaN     NaN\n",
       "2011-01-17    NaN   NaN    NaN  NaN   NaN     NaN\n",
       "2011-02-21    NaN   NaN    NaN  NaN   NaN     NaN"
      ]
     },
     "execution_count": 16,
     "metadata": {},
     "output_type": "execute_result"
    }
   ],
   "source": [
    "null_data=AAPL_data[AAPL_data.isnull().any(axis=1)]\n",
    "null_data.head(10)"
   ]
  },
  {
   "cell_type": "code",
   "execution_count": 17,
   "id": "35a012b2",
   "metadata": {
    "execution": {
     "iopub.execute_input": "2022-07-12T10:07:44.929996Z",
     "iopub.status.busy": "2022-07-12T10:07:44.928838Z",
     "iopub.status.idle": "2022-07-12T10:07:44.935303Z",
     "shell.execute_reply": "2022-07-12T10:07:44.934285Z"
    },
    "papermill": {
     "duration": 0.024891,
     "end_time": "2022-07-12T10:07:44.938028",
     "exception": false,
     "start_time": "2022-07-12T10:07:44.913137",
     "status": "completed"
    },
    "tags": []
   },
   "outputs": [],
   "source": [
    "null_dates=null_data.index.tolist()"
   ]
  },
  {
   "cell_type": "code",
   "execution_count": 18,
   "id": "dd5f3309",
   "metadata": {
    "execution": {
     "iopub.execute_input": "2022-07-12T10:07:44.968857Z",
     "iopub.status.busy": "2022-07-12T10:07:44.968045Z",
     "iopub.status.idle": "2022-07-12T10:07:44.988161Z",
     "shell.execute_reply": "2022-07-12T10:07:44.986961Z"
    },
    "papermill": {
     "duration": 0.038372,
     "end_time": "2022-07-12T10:07:44.990665",
     "exception": false,
     "start_time": "2022-07-12T10:07:44.952293",
     "status": "completed"
    },
    "tags": []
   },
   "outputs": [
    {
     "name": "stdout",
     "output_type": "stream",
     "text": [
      "[Timestamp('2012-10-29 00:00:00'), Timestamp('2012-10-30 00:00:00')]\n"
     ]
    }
   ],
   "source": [
    "import calendar\n",
    "import datetime\n",
    "\n",
    "holidays = []\n",
    "\n",
    "for date in null_dates:\n",
    "    week, day, month, year = date.weekday(), date.day, date.month, date.year\n",
    "    week_day = calendar.day_name[week]\n",
    "\n",
    "    if month==1:\n",
    "        if day==1:\n",
    "            # New year day\n",
    "            holidays.append(date)\n",
    "        elif day==2 and week_day=='Monday':\n",
    "            # Observed New Year Day\n",
    "            holidays.append(date)\n",
    "        elif day>=15 and day<=21 and week_day=='Monday':\n",
    "            # Martin Luther King, Jr. Day\n",
    "            holidays.append(date)\n",
    "\n",
    "    elif month==2:\n",
    "        # Washington's Birthday\n",
    "        if day>=15 and day<=21 and week_day=='Monday':\n",
    "            holidays.append(date)\n",
    "\n",
    "    elif month==5:\n",
    "        # Memorial day\n",
    "        if day>=25 and day<=31 and week_day=='Monday':\n",
    "            holidays.append(date)\n",
    "\n",
    "    elif month==7:\n",
    "        # Independence day\n",
    "        if day==4:\n",
    "            holidays.append(date)\n",
    "        # Observed Independence  Day\n",
    "        elif day==5 and week_day=='Monday':\n",
    "            holidays.append(date)\n",
    "        elif day==3 and week_day=='Friday':\n",
    "            holidays.append(date)\n",
    "\n",
    "    elif month == 9:\n",
    "        # Labour day\n",
    "        if day>=1 and day<=7 and week_day=='Monday':\n",
    "            holidays.append(date)\n",
    "\n",
    "    elif month==11:\n",
    "        # Thanksgiving Day\n",
    "        if week_day=='Thursday' and day>=22 and day<=28:\n",
    "            holidays.append(date)\n",
    "\n",
    "    elif month==12:\n",
    "        # Christmas Day\n",
    "        if day==25:\n",
    "            holidays.append(date)\n",
    "        # Observed Christmas Day\n",
    "        elif day==24 and week_day=='Friday':\n",
    "            holidays.append(date)\n",
    "        elif day==26 and week_day=='Monday':\n",
    "            holidays.append(date)\n",
    "\n",
    "good_fridays = [ datetime.date(2010,4,2), datetime.date(2011,4,22), datetime.date(2012,4,6), datetime.date(2013,3,29), datetime.date(2014,4,18), datetime.date(2015,4,3), datetime.date(2016,3,25) ]\n",
    "holidays = holidays + [pd.to_datetime(date) for date in good_fridays]\n",
    "\n",
    "non_holidays = [x for x in null_dates if x not in holidays]\n",
    "print(non_holidays)"
   ]
  },
  {
   "cell_type": "code",
   "execution_count": 19,
   "id": "acde0171",
   "metadata": {
    "execution": {
     "iopub.execute_input": "2022-07-12T10:07:45.022287Z",
     "iopub.status.busy": "2022-07-12T10:07:45.021870Z",
     "iopub.status.idle": "2022-07-12T10:07:45.029435Z",
     "shell.execute_reply": "2022-07-12T10:07:45.028559Z"
    },
    "papermill": {
     "duration": 0.02648,
     "end_time": "2022-07-12T10:07:45.031943",
     "exception": false,
     "start_time": "2022-07-12T10:07:45.005463",
     "status": "completed"
    },
    "tags": []
   },
   "outputs": [],
   "source": [
    "modified_df=AAPL_data.drop(holidays)"
   ]
  },
  {
   "cell_type": "code",
   "execution_count": 20,
   "id": "792e1800",
   "metadata": {
    "execution": {
     "iopub.execute_input": "2022-07-12T10:07:45.063732Z",
     "iopub.status.busy": "2022-07-12T10:07:45.063267Z",
     "iopub.status.idle": "2022-07-12T10:07:45.073954Z",
     "shell.execute_reply": "2022-07-12T10:07:45.072680Z"
    },
    "papermill": {
     "duration": 0.029575,
     "end_time": "2022-07-12T10:07:45.076655",
     "exception": false,
     "start_time": "2022-07-12T10:07:45.047080",
     "status": "completed"
    },
    "tags": []
   },
   "outputs": [
    {
     "data": {
      "text/plain": [
       "symbol    2\n",
       "open      2\n",
       "close     2\n",
       "low       2\n",
       "high      2\n",
       "volume    2\n",
       "dtype: int64"
      ]
     },
     "execution_count": 20,
     "metadata": {},
     "output_type": "execute_result"
    }
   ],
   "source": [
    "modified_df.isnull().sum()"
   ]
  },
  {
   "cell_type": "code",
   "execution_count": 21,
   "id": "9d6ef295",
   "metadata": {
    "execution": {
     "iopub.execute_input": "2022-07-12T10:07:45.109399Z",
     "iopub.status.busy": "2022-07-12T10:07:45.108549Z",
     "iopub.status.idle": "2022-07-12T10:07:45.119916Z",
     "shell.execute_reply": "2022-07-12T10:07:45.118831Z"
    },
    "papermill": {
     "duration": 0.030553,
     "end_time": "2022-07-12T10:07:45.122948",
     "exception": false,
     "start_time": "2022-07-12T10:07:45.092395",
     "status": "completed"
    },
    "tags": []
   },
   "outputs": [],
   "source": [
    "modified_df= modified_df.bfill(axis='rows')"
   ]
  },
  {
   "cell_type": "code",
   "execution_count": 22,
   "id": "9327f035",
   "metadata": {
    "execution": {
     "iopub.execute_input": "2022-07-12T10:07:45.154730Z",
     "iopub.status.busy": "2022-07-12T10:07:45.153879Z",
     "iopub.status.idle": "2022-07-12T10:07:45.164156Z",
     "shell.execute_reply": "2022-07-12T10:07:45.162830Z"
    },
    "papermill": {
     "duration": 0.0297,
     "end_time": "2022-07-12T10:07:45.166893",
     "exception": false,
     "start_time": "2022-07-12T10:07:45.137193",
     "status": "completed"
    },
    "tags": []
   },
   "outputs": [
    {
     "data": {
      "text/plain": [
       "symbol    0\n",
       "open      0\n",
       "close     0\n",
       "low       0\n",
       "high      0\n",
       "volume    0\n",
       "dtype: int64"
      ]
     },
     "execution_count": 22,
     "metadata": {},
     "output_type": "execute_result"
    }
   ],
   "source": [
    "modified_df.isnull().sum()"
   ]
  },
  {
   "cell_type": "code",
   "execution_count": 23,
   "id": "3584a9f3",
   "metadata": {
    "execution": {
     "iopub.execute_input": "2022-07-12T10:07:45.197884Z",
     "iopub.status.busy": "2022-07-12T10:07:45.197471Z",
     "iopub.status.idle": "2022-07-12T10:07:45.424291Z",
     "shell.execute_reply": "2022-07-12T10:07:45.423405Z"
    },
    "papermill": {
     "duration": 0.245464,
     "end_time": "2022-07-12T10:07:45.426789",
     "exception": false,
     "start_time": "2022-07-12T10:07:45.181325",
     "status": "completed"
    },
    "tags": []
   },
   "outputs": [
    {
     "data": {
      "image/png": "[encoded data removed]",
      "text/plain": [
       "<Figure size 432x288 with 1 Axes>"
      ]
     },
     "metadata": {
      "needs_background": "light"
     },
     "output_type": "display_data"
    }
   ],
   "source": [
    "def plotter(code):\n",
    "    global closing_stock\n",
    "    plt.subplot(211)\n",
    "    company_close = modified_df[modified_df['symbol']==code]\n",
    "    company_close = company_close.close.values.astype('float32')\n",
    "    company_close = company_close.reshape(-1, 1)\n",
    "    closing_stock = company_close\n",
    "    plt.xlabel('Time')\n",
    "    plt.ylabel(code + \" close stock prices\")\n",
    "    plt.title('prices Vs Time')\n",
    "    plt.grid(True)\n",
    "    plt.plot(company_close , 'b')\n",
    "    plt.show()\n",
    "\n",
    "plotter('AAPL')"
   ]
  },
  {
   "cell_type": "code",
   "execution_count": 24,
   "id": "62410e14",
   "metadata": {
    "execution": {
     "iopub.execute_input": "2022-07-12T10:07:45.458777Z",
     "iopub.status.busy": "2022-07-12T10:07:45.458326Z",
     "iopub.status.idle": "2022-07-12T10:07:45.466461Z",
     "shell.execute_reply": "2022-07-12T10:07:45.465041Z"
    },
    "papermill": {
     "duration": 0.029319,
     "end_time": "2022-07-12T10:07:45.470853",
     "exception": false,
     "start_time": "2022-07-12T10:07:45.441534",
     "status": "completed"
    },
    "tags": []
   },
   "outputs": [
    {
     "name": "stdout",
     "output_type": "stream",
     "text": [
      "Train samples: 1411 Validation Samples: 176 Test Samples: 177\n"
     ]
    }
   ],
   "source": [
    "n_train = int(len(closing_stock) * 0.80)\n",
    "n_remaining = len(closing_stock) - n_train\n",
    "\n",
    "n_val = int(n_remaining*0.50)\n",
    "n_test = n_remaining - n_val \n",
    "print(\"Train samples:\",n_train, \"Validation Samples:\",n_val,\"Test Samples:\", n_test)"
   ]
  },
  {
   "cell_type": "code",
   "execution_count": 25,
   "id": "24128087",
   "metadata": {
    "execution": {
     "iopub.execute_input": "2022-07-12T10:07:45.503372Z",
     "iopub.status.busy": "2022-07-12T10:07:45.502536Z",
     "iopub.status.idle": "2022-07-12T10:07:45.510329Z",
     "shell.execute_reply": "2022-07-12T10:07:45.509106Z"
    },
    "papermill": {
     "duration": 0.027176,
     "end_time": "2022-07-12T10:07:45.513103",
     "exception": false,
     "start_time": "2022-07-12T10:07:45.485927",
     "status": "completed"
    },
    "tags": []
   },
   "outputs": [
    {
     "data": {
      "text/plain": [
       "(1411, 1)"
      ]
     },
     "execution_count": 25,
     "metadata": {},
     "output_type": "execute_result"
    }
   ],
   "source": [
    "train_data = closing_stock[0:n_train]\n",
    "train_data.shape"
   ]
  },
  {
   "cell_type": "code",
   "execution_count": 26,
   "id": "194b9329",
   "metadata": {
    "execution": {
     "iopub.execute_input": "2022-07-12T10:07:45.548978Z",
     "iopub.status.busy": "2022-07-12T10:07:45.548001Z",
     "iopub.status.idle": "2022-07-12T10:07:45.556110Z",
     "shell.execute_reply": "2022-07-12T10:07:45.554993Z"
    },
    "papermill": {
     "duration": 0.027988,
     "end_time": "2022-07-12T10:07:45.558512",
     "exception": false,
     "start_time": "2022-07-12T10:07:45.530524",
     "status": "completed"
    },
    "tags": []
   },
   "outputs": [
    {
     "data": {
      "text/plain": [
       "(176, 1)"
      ]
     },
     "execution_count": 26,
     "metadata": {},
     "output_type": "execute_result"
    }
   ],
   "source": [
    "val_data = closing_stock[n_train:(n_train+n_val)]\n",
    "val_data.shape"
   ]
  },
  {
   "cell_type": "code",
   "execution_count": 27,
   "id": "2e848895",
   "metadata": {
    "execution": {
     "iopub.execute_input": "2022-07-12T10:07:45.593657Z",
     "iopub.status.busy": "2022-07-12T10:07:45.592829Z",
     "iopub.status.idle": "2022-07-12T10:07:45.600491Z",
     "shell.execute_reply": "2022-07-12T10:07:45.599652Z"
    },
    "papermill": {
     "duration": 0.028684,
     "end_time": "2022-07-12T10:07:45.602834",
     "exception": false,
     "start_time": "2022-07-12T10:07:45.574150",
     "status": "completed"
    },
    "tags": []
   },
   "outputs": [
    {
     "data": {
      "text/plain": [
       "(177, 1)"
      ]
     },
     "execution_count": 27,
     "metadata": {},
     "output_type": "execute_result"
    }
   ],
   "source": [
    "test_data = closing_stock[(n_train+n_val):len(closing_stock)]\n",
    "test_data.shape"
   ]
  },
  {
   "cell_type": "code",
   "execution_count": 28,
   "id": "e7bdd1d9",
   "metadata": {
    "execution": {
     "iopub.execute_input": "2022-07-12T10:07:45.637500Z",
     "iopub.status.busy": "2022-07-12T10:07:45.636733Z",
     "iopub.status.idle": "2022-07-12T10:07:46.912620Z",
     "shell.execute_reply": "2022-07-12T10:07:46.911305Z"
    },
    "papermill": {
     "duration": 1.298087,
     "end_time": "2022-07-12T10:07:46.916714",
     "exception": false,
     "start_time": "2022-07-12T10:07:45.618627",
     "status": "completed"
    },
    "tags": []
   },
   "outputs": [],
   "source": [
    "from sklearn.preprocessing import MinMaxScaler\n",
    "scaler = MinMaxScaler(feature_range=(0, 1))\n",
    "train = scaler.fit_transform(train_data)\n",
    "val=scaler.transform(val_data)\n",
    "test= scaler.transform(test_data)"
   ]
  },
  {
   "cell_type": "code",
   "execution_count": 29,
   "id": "b5d2ee68",
   "metadata": {
    "execution": {
     "iopub.execute_input": "2022-07-12T10:07:46.953774Z",
     "iopub.status.busy": "2022-07-12T10:07:46.952670Z",
     "iopub.status.idle": "2022-07-12T10:07:46.960041Z",
     "shell.execute_reply": "2022-07-12T10:07:46.958688Z"
    },
    "papermill": {
     "duration": 0.028414,
     "end_time": "2022-07-12T10:07:46.962823",
     "exception": false,
     "start_time": "2022-07-12T10:07:46.934409",
     "status": "completed"
    },
    "tags": []
   },
   "outputs": [
    {
     "data": {
      "text/plain": [
       "array([[0.02971783],\n",
       "       [0.03021854],\n",
       "       [0.02560389],\n",
       "       ...,\n",
       "       [0.833277  ],\n",
       "       [0.83071923],\n",
       "       [0.83441365]], dtype=float32)"
      ]
     },
     "execution_count": 29,
     "metadata": {},
     "output_type": "execute_result"
    }
   ],
   "source": [
    "train"
   ]
  },
  {
   "cell_type": "code",
   "execution_count": 30,
   "id": "68a60a5b",
   "metadata": {
    "execution": {
     "iopub.execute_input": "2022-07-12T10:07:46.998361Z",
     "iopub.status.busy": "2022-07-12T10:07:46.997710Z",
     "iopub.status.idle": "2022-07-12T10:07:47.006399Z",
     "shell.execute_reply": "2022-07-12T10:07:47.004847Z"
    },
    "papermill": {
     "duration": 0.030672,
     "end_time": "2022-07-12T10:07:47.009915",
     "exception": false,
     "start_time": "2022-07-12T10:07:46.979243",
     "status": "completed"
    },
    "tags": []
   },
   "outputs": [],
   "source": [
    "def create_dataset(data , n_features):\n",
    "    dataX, dataY = [], []\n",
    "    for i in range(len(data)-n_features-1):\n",
    "        a = data[i:(i+n_features), 0]\n",
    "        dataX.append(a)\n",
    "        dataY.append(data[i + n_features, 0])\n",
    "    return np.array(dataX), np.array(dataY)\n"
   ]
  },
  {
   "cell_type": "code",
   "execution_count": 31,
   "id": "6e0e31b4",
   "metadata": {
    "execution": {
     "iopub.execute_input": "2022-07-12T10:07:47.045984Z",
     "iopub.status.busy": "2022-07-12T10:07:47.045378Z",
     "iopub.status.idle": "2022-07-12T10:07:47.058680Z",
     "shell.execute_reply": "2022-07-12T10:07:47.056146Z"
    },
    "papermill": {
     "duration": 0.035041,
     "end_time": "2022-07-12T10:07:47.061978",
     "exception": false,
     "start_time": "2022-07-12T10:07:47.026937",
     "status": "completed"
    },
    "tags": []
   },
   "outputs": [
    {
     "name": "stdout",
     "output_type": "stream",
     "text": [
      "(1408, 2) (1408,) (173, 2) (173,) (174, 2) (174,)\n"
     ]
    }
   ],
   "source": [
    "n_features = 2\n",
    "trainX, trainY =  create_dataset(train, n_features)\n",
    "valX, valY = create_dataset(val, n_features)\n",
    "testX, testY = create_dataset(test, n_features)\n",
    "\n",
    "print(trainX.shape , trainY.shape , valX.shape , valY.shape, testX.shape , testY.shape)"
   ]
  },
  {
   "cell_type": "code",
   "execution_count": 32,
   "id": "175c941a",
   "metadata": {
    "execution": {
     "iopub.execute_input": "2022-07-12T10:07:47.096781Z",
     "iopub.status.busy": "2022-07-12T10:07:47.096255Z",
     "iopub.status.idle": "2022-07-12T10:07:47.106382Z",
     "shell.execute_reply": "2022-07-12T10:07:47.104549Z"
    },
    "papermill": {
     "duration": 0.03098,
     "end_time": "2022-07-12T10:07:47.109216",
     "exception": false,
     "start_time": "2022-07-12T10:07:47.078236",
     "status": "completed"
    },
    "tags": []
   },
   "outputs": [
    {
     "name": "stdout",
     "output_type": "stream",
     "text": [
      "(1408, 1, 2) (1408,) (173, 1, 2) (173,) (174, 1, 2) (174,)\n"
     ]
    }
   ],
   "source": [
    "trainX = trainX.reshape(trainX.shape[0] , 1 ,trainX.shape[1])\n",
    "valX = valX.reshape(valX.shape[0] , 1 ,valX.shape[1])\n",
    "testX = testX.reshape(testX.shape[0] , 1 ,testX.shape[1])\n",
    "\n",
    "print(trainX.shape , trainY.shape , valX.shape , valY.shape, testX.shape , testY.shape)"
   ]
  },
  {
   "cell_type": "code",
   "execution_count": 33,
   "id": "57f3cd74",
   "metadata": {
    "execution": {
     "iopub.execute_input": "2022-07-12T10:07:47.144225Z",
     "iopub.status.busy": "2022-07-12T10:07:47.143811Z",
     "iopub.status.idle": "2022-07-12T10:07:58.348110Z",
     "shell.execute_reply": "2022-07-12T10:07:58.346567Z"
    },
    "papermill": {
     "duration": 11.225943,
     "end_time": "2022-07-12T10:07:58.351509",
     "exception": false,
     "start_time": "2022-07-12T10:07:47.125566",
     "status": "completed"
    },
    "tags": []
   },
   "outputs": [],
   "source": [
    "import tensorflow as tf\n",
    "tf.random.set_seed(42)\n",
    "\n",
    "from tensorflow import keras\n",
    "from tensorflow.keras import layers\n",
    "from tensorflow.keras.optimizers import Adam"
   ]
  },
  {
   "cell_type": "code",
   "execution_count": 34,
   "id": "815146af",
   "metadata": {
    "execution": {
     "iopub.execute_input": "2022-07-12T10:07:58.386865Z",
     "iopub.status.busy": "2022-07-12T10:07:58.386077Z",
     "iopub.status.idle": "2022-07-12T10:07:58.458536Z",
     "shell.execute_reply": "2022-07-12T10:07:58.457611Z"
    },
    "papermill": {
     "duration": 0.092725,
     "end_time": "2022-07-12T10:07:58.460992",
     "exception": false,
     "start_time": "2022-07-12T10:07:58.368267",
     "status": "completed"
    },
    "tags": []
   },
   "outputs": [
    {
     "name": "stderr",
     "output_type": "stream",
     "text": [
      "2022-07-12 10:07:58.429636: I tensorflow/core/common_runtime/process_util.cc:146] Creating new thread pool with default inter op setting: 2. Tune using inter_op_parallelism_threads for best performance.\n"
     ]
    }
   ],
   "source": [
    "model=keras.Sequential([])\n"
   ]
  },
  {
   "cell_type": "code",
   "execution_count": 35,
   "id": "05504e30",
   "metadata": {
    "execution": {
     "iopub.execute_input": "2022-07-12T10:07:58.498245Z",
     "iopub.status.busy": "2022-07-12T10:07:58.496808Z",
     "iopub.status.idle": "2022-07-12T10:07:59.314457Z",
     "shell.execute_reply": "2022-07-12T10:07:59.313314Z"
    },
    "papermill": {
     "duration": 0.838976,
     "end_time": "2022-07-12T10:07:59.317341",
     "exception": false,
     "start_time": "2022-07-12T10:07:58.478365",
     "status": "completed"
    },
    "tags": []
   },
   "outputs": [],
   "source": [
    "# First GRU layer\n",
    "model.add(layers.GRU(units=100, return_sequences=True, input_shape=(1,n_features), activation='tanh'))\n",
    "model.add(layers.Dropout(0.2))\n",
    "\n",
    "# Second GRU layer\n",
    "model.add(layers.GRU(units=150, return_sequences=True, input_shape=(1,n_features), activation='tanh'))\n",
    "model.add(layers.Dropout(0.2))\n",
    "\n",
    "# Third GRU layer\n",
    "model.add(layers.GRU(units=100, activation='tanh'))\n",
    "model.add(layers.Dropout(0.2))\n",
    "\n",
    "# The output layer\n",
    "model.add(layers.Dense(units=1, kernel_initializer='he_uniform', activation='linear'))"
   ]
  },
  {
   "cell_type": "code",
   "execution_count": 36,
   "id": "edabc59e",
   "metadata": {
    "execution": {
     "iopub.execute_input": "2022-07-12T10:07:59.351846Z",
     "iopub.status.busy": "2022-07-12T10:07:59.351411Z",
     "iopub.status.idle": "2022-07-12T10:07:59.369137Z",
     "shell.execute_reply": "2022-07-12T10:07:59.367115Z"
    },
    "papermill": {
     "duration": 0.038505,
     "end_time": "2022-07-12T10:07:59.371704",
     "exception": false,
     "start_time": "2022-07-12T10:07:59.333199",
     "status": "completed"
    },
    "tags": []
   },
   "outputs": [
    {
     "name": "stderr",
     "output_type": "stream",
     "text": [
      "/opt/conda/lib/python3.7/site-packages/keras/optimizer_v2/optimizer_v2.py:356: UserWarning: The `lr` argument is deprecated, use `learning_rate` instead.\n",
      "  \"The `lr` argument is deprecated, use `learning_rate` instead.\")\n"
     ]
    }
   ],
   "source": [
    "model.compile(loss='mean_squared_error', optimizer=Adam(lr = 0.0005) , metrics = ['mean_squared_error'])"
   ]
  },
  {
   "cell_type": "code",
   "execution_count": 37,
   "id": "b7763ce4",
   "metadata": {
    "execution": {
     "iopub.execute_input": "2022-07-12T10:07:59.405546Z",
     "iopub.status.busy": "2022-07-12T10:07:59.405045Z",
     "iopub.status.idle": "2022-07-12T10:07:59.412177Z",
     "shell.execute_reply": "2022-07-12T10:07:59.410934Z"
    },
    "papermill": {
     "duration": 0.026919,
     "end_time": "2022-07-12T10:07:59.414780",
     "exception": false,
     "start_time": "2022-07-12T10:07:59.387861",
     "status": "completed"
    },
    "tags": []
   },
   "outputs": [
    {
     "name": "stdout",
     "output_type": "stream",
     "text": [
      "Model: \"sequential\"\n",
      "_________________________________________________________________\n",
      "Layer (type)                 Output Shape              Param #   \n",
      "=================================================================\n",
      "gru (GRU)                    (None, 1, 100)            31200     \n",
      "_________________________________________________________________\n",
      "dropout (Dropout)            (None, 1, 100)            0         \n",
      "_________________________________________________________________\n",
      "gru_1 (GRU)                  (None, 1, 150)            113400    \n",
      "_________________________________________________________________\n",
      "dropout_1 (Dropout)          (None, 1, 150)            0         \n",
      "_________________________________________________________________\n",
      "gru_2 (GRU)                  (None, 100)               75600     \n",
      "_________________________________________________________________\n",
      "dropout_2 (Dropout)          (None, 100)               0         \n",
      "_________________________________________________________________\n",
      "dense (Dense)                (None, 1)                 101       \n",
      "=================================================================\n",
      "Total params: 220,301\n",
      "Trainable params: 220,301\n",
      "Non-trainable params: 0\n",
      "_________________________________________________________________\n"
     ]
    }
   ],
   "source": [
    "model.summary()"
   ]
  },
  {
   "cell_type": "code",
   "execution_count": 38,
   "id": "3575ee6b",
   "metadata": {
    "execution": {
     "iopub.execute_input": "2022-07-12T10:07:59.449535Z",
     "iopub.status.busy": "2022-07-12T10:07:59.449118Z",
     "iopub.status.idle": "2022-07-12T10:08:21.340533Z",
     "shell.execute_reply": "2022-07-12T10:08:21.339497Z"
    },
    "papermill": {
     "duration": 21.912184,
     "end_time": "2022-07-12T10:08:21.343287",
     "exception": false,
     "start_time": "2022-07-12T10:07:59.431103",
     "status": "completed"
    },
    "tags": []
   },
   "outputs": [
    {
     "name": "stderr",
     "output_type": "stream",
     "text": [
      "2022-07-12 10:07:59.505895: I tensorflow/compiler/mlir/mlir_graph_optimization_pass.cc:185] None of the MLIR Optimization Passes are enabled (registered 2)\n"
     ]
    },
    {
     "name": "stdout",
     "output_type": "stream",
     "text": [
      "Epoch 1/100\n",
      "11/11 [==============================] - 6s 144ms/step - loss: 0.1731 - mean_squared_error: 0.1731 - val_loss: 0.2503 - val_mean_squared_error: 0.2503\n",
      "Epoch 2/100\n",
      "11/11 [==============================] - 0s 17ms/step - loss: 0.0439 - mean_squared_error: 0.0439 - val_loss: 0.0044 - val_mean_squared_error: 0.0044\n",
      "Epoch 3/100\n",
      "11/11 [==============================] - 0s 14ms/step - loss: 0.0265 - mean_squared_error: 0.0265 - val_loss: 0.0043 - val_mean_squared_error: 0.0043\n",
      "Epoch 4/100\n",
      "11/11 [==============================] - 0s 13ms/step - loss: 0.0154 - mean_squared_error: 0.0154 - val_loss: 0.0262 - val_mean_squared_error: 0.0262\n",
      "Epoch 5/100\n",
      "11/11 [==============================] - 0s 13ms/step - loss: 0.0102 - mean_squared_error: 0.0102 - val_loss: 0.0023 - val_mean_squared_error: 0.0023\n",
      "Epoch 6/100\n",
      "11/11 [==============================] - 0s 13ms/step - loss: 0.0060 - mean_squared_error: 0.0060 - val_loss: 0.0029 - val_mean_squared_error: 0.0029\n",
      "Epoch 7/100\n",
      "11/11 [==============================] - 0s 14ms/step - loss: 0.0038 - mean_squared_error: 0.0038 - val_loss: 7.4057e-04 - val_mean_squared_error: 7.4057e-04\n",
      "Epoch 8/100\n",
      "11/11 [==============================] - 0s 13ms/step - loss: 0.0028 - mean_squared_error: 0.0028 - val_loss: 5.4129e-04 - val_mean_squared_error: 5.4129e-04\n",
      "Epoch 9/100\n",
      "11/11 [==============================] - 0s 13ms/step - loss: 0.0026 - mean_squared_error: 0.0026 - val_loss: 4.4995e-04 - val_mean_squared_error: 4.4995e-04\n",
      "Epoch 10/100\n",
      "11/11 [==============================] - 0s 15ms/step - loss: 0.0028 - mean_squared_error: 0.0028 - val_loss: 4.4582e-04 - val_mean_squared_error: 4.4582e-04\n",
      "Epoch 11/100\n",
      "11/11 [==============================] - 0s 16ms/step - loss: 0.0028 - mean_squared_error: 0.0028 - val_loss: 4.6067e-04 - val_mean_squared_error: 4.6067e-04\n",
      "Epoch 12/100\n",
      "11/11 [==============================] - 0s 13ms/step - loss: 0.0024 - mean_squared_error: 0.0024 - val_loss: 4.3108e-04 - val_mean_squared_error: 4.3108e-04\n",
      "Epoch 13/100\n",
      "11/11 [==============================] - 0s 14ms/step - loss: 0.0026 - mean_squared_error: 0.0026 - val_loss: 4.5112e-04 - val_mean_squared_error: 4.5112e-04\n",
      "Epoch 14/100\n",
      "11/11 [==============================] - 0s 14ms/step - loss: 0.0025 - mean_squared_error: 0.0025 - val_loss: 4.4608e-04 - val_mean_squared_error: 4.4608e-04\n",
      "Epoch 15/100\n",
      "11/11 [==============================] - 0s 13ms/step - loss: 0.0023 - mean_squared_error: 0.0023 - val_loss: 4.4223e-04 - val_mean_squared_error: 4.4223e-04\n",
      "Epoch 16/100\n",
      "11/11 [==============================] - 0s 14ms/step - loss: 0.0024 - mean_squared_error: 0.0024 - val_loss: 4.2280e-04 - val_mean_squared_error: 4.2280e-04\n",
      "Epoch 17/100\n",
      "11/11 [==============================] - 0s 15ms/step - loss: 0.0024 - mean_squared_error: 0.0024 - val_loss: 4.2910e-04 - val_mean_squared_error: 4.2910e-04\n",
      "Epoch 18/100\n",
      "11/11 [==============================] - 0s 13ms/step - loss: 0.0025 - mean_squared_error: 0.0025 - val_loss: 4.2132e-04 - val_mean_squared_error: 4.2132e-04\n",
      "Epoch 19/100\n",
      "11/11 [==============================] - 0s 14ms/step - loss: 0.0022 - mean_squared_error: 0.0022 - val_loss: 5.1412e-04 - val_mean_squared_error: 5.1412e-04\n",
      "Epoch 20/100\n",
      "11/11 [==============================] - 0s 14ms/step - loss: 0.0024 - mean_squared_error: 0.0024 - val_loss: 4.3006e-04 - val_mean_squared_error: 4.3006e-04\n",
      "Epoch 21/100\n",
      "11/11 [==============================] - 0s 14ms/step - loss: 0.0023 - mean_squared_error: 0.0023 - val_loss: 4.7561e-04 - val_mean_squared_error: 4.7561e-04\n",
      "Epoch 22/100\n",
      "11/11 [==============================] - 0s 12ms/step - loss: 0.0021 - mean_squared_error: 0.0021 - val_loss: 5.2760e-04 - val_mean_squared_error: 5.2760e-04\n",
      "Epoch 23/100\n",
      "11/11 [==============================] - 0s 13ms/step - loss: 0.0022 - mean_squared_error: 0.0022 - val_loss: 4.4905e-04 - val_mean_squared_error: 4.4905e-04\n",
      "Epoch 24/100\n",
      "11/11 [==============================] - 0s 14ms/step - loss: 0.0024 - mean_squared_error: 0.0024 - val_loss: 5.1519e-04 - val_mean_squared_error: 5.1519e-04\n",
      "Epoch 25/100\n",
      "11/11 [==============================] - 0s 13ms/step - loss: 0.0021 - mean_squared_error: 0.0021 - val_loss: 4.2300e-04 - val_mean_squared_error: 4.2300e-04\n",
      "Epoch 26/100\n",
      "11/11 [==============================] - 0s 16ms/step - loss: 0.0020 - mean_squared_error: 0.0020 - val_loss: 4.3177e-04 - val_mean_squared_error: 4.3177e-04\n",
      "Epoch 27/100\n",
      "11/11 [==============================] - 0s 13ms/step - loss: 0.0020 - mean_squared_error: 0.0020 - val_loss: 4.3710e-04 - val_mean_squared_error: 4.3710e-04\n",
      "Epoch 28/100\n",
      "11/11 [==============================] - 0s 14ms/step - loss: 0.0019 - mean_squared_error: 0.0019 - val_loss: 4.7035e-04 - val_mean_squared_error: 4.7035e-04\n",
      "Epoch 29/100\n",
      "11/11 [==============================] - 0s 32ms/step - loss: 0.0021 - mean_squared_error: 0.0021 - val_loss: 4.2506e-04 - val_mean_squared_error: 4.2506e-04\n",
      "Epoch 30/100\n",
      "11/11 [==============================] - 0s 30ms/step - loss: 0.0019 - mean_squared_error: 0.0019 - val_loss: 4.1777e-04 - val_mean_squared_error: 4.1777e-04\n",
      "Epoch 31/100\n",
      "11/11 [==============================] - 0s 37ms/step - loss: 0.0019 - mean_squared_error: 0.0019 - val_loss: 4.1561e-04 - val_mean_squared_error: 4.1561e-04\n",
      "Epoch 32/100\n",
      "11/11 [==============================] - 0s 14ms/step - loss: 0.0018 - mean_squared_error: 0.0018 - val_loss: 4.0303e-04 - val_mean_squared_error: 4.0303e-04\n",
      "Epoch 33/100\n",
      "11/11 [==============================] - 0s 14ms/step - loss: 0.0019 - mean_squared_error: 0.0019 - val_loss: 4.0692e-04 - val_mean_squared_error: 4.0692e-04\n",
      "Epoch 34/100\n",
      "11/11 [==============================] - 0s 13ms/step - loss: 0.0018 - mean_squared_error: 0.0018 - val_loss: 5.3776e-04 - val_mean_squared_error: 5.3776e-04\n",
      "Epoch 35/100\n",
      "11/11 [==============================] - 0s 14ms/step - loss: 0.0017 - mean_squared_error: 0.0017 - val_loss: 4.0311e-04 - val_mean_squared_error: 4.0311e-04\n",
      "Epoch 36/100\n",
      "11/11 [==============================] - 0s 14ms/step - loss: 0.0018 - mean_squared_error: 0.0018 - val_loss: 4.2797e-04 - val_mean_squared_error: 4.2797e-04\n",
      "Epoch 37/100\n",
      "11/11 [==============================] - 0s 14ms/step - loss: 0.0018 - mean_squared_error: 0.0018 - val_loss: 4.0300e-04 - val_mean_squared_error: 4.0300e-04\n",
      "Epoch 38/100\n",
      "11/11 [==============================] - 0s 14ms/step - loss: 0.0018 - mean_squared_error: 0.0018 - val_loss: 3.9864e-04 - val_mean_squared_error: 3.9864e-04\n",
      "Epoch 39/100\n",
      "11/11 [==============================] - 0s 14ms/step - loss: 0.0018 - mean_squared_error: 0.0018 - val_loss: 4.4492e-04 - val_mean_squared_error: 4.4492e-04\n",
      "Epoch 40/100\n",
      "11/11 [==============================] - 0s 14ms/step - loss: 0.0017 - mean_squared_error: 0.0017 - val_loss: 5.6634e-04 - val_mean_squared_error: 5.6634e-04\n",
      "Epoch 41/100\n",
      "11/11 [==============================] - 0s 14ms/step - loss: 0.0018 - mean_squared_error: 0.0018 - val_loss: 3.9989e-04 - val_mean_squared_error: 3.9989e-04\n",
      "Epoch 42/100\n",
      "11/11 [==============================] - 0s 14ms/step - loss: 0.0016 - mean_squared_error: 0.0016 - val_loss: 4.3611e-04 - val_mean_squared_error: 4.3611e-04\n",
      "Epoch 43/100\n",
      "11/11 [==============================] - 0s 14ms/step - loss: 0.0015 - mean_squared_error: 0.0015 - val_loss: 3.9785e-04 - val_mean_squared_error: 3.9785e-04\n",
      "Epoch 44/100\n",
      "11/11 [==============================] - 0s 14ms/step - loss: 0.0016 - mean_squared_error: 0.0016 - val_loss: 3.9780e-04 - val_mean_squared_error: 3.9780e-04\n",
      "Epoch 45/100\n",
      "11/11 [==============================] - 0s 13ms/step - loss: 0.0018 - mean_squared_error: 0.0018 - val_loss: 6.5376e-04 - val_mean_squared_error: 6.5376e-04\n",
      "Epoch 46/100\n",
      "11/11 [==============================] - 0s 13ms/step - loss: 0.0016 - mean_squared_error: 0.0016 - val_loss: 5.4832e-04 - val_mean_squared_error: 5.4832e-04\n",
      "Epoch 47/100\n",
      "11/11 [==============================] - 0s 14ms/step - loss: 0.0015 - mean_squared_error: 0.0015 - val_loss: 4.7458e-04 - val_mean_squared_error: 4.7458e-04\n",
      "Epoch 48/100\n",
      "11/11 [==============================] - 0s 14ms/step - loss: 0.0016 - mean_squared_error: 0.0016 - val_loss: 3.9495e-04 - val_mean_squared_error: 3.9495e-04\n",
      "Epoch 49/100\n",
      "11/11 [==============================] - 0s 13ms/step - loss: 0.0016 - mean_squared_error: 0.0016 - val_loss: 6.5620e-04 - val_mean_squared_error: 6.5620e-04\n",
      "Epoch 50/100\n",
      "11/11 [==============================] - 0s 14ms/step - loss: 0.0014 - mean_squared_error: 0.0014 - val_loss: 3.9266e-04 - val_mean_squared_error: 3.9266e-04\n",
      "Epoch 51/100\n",
      "11/11 [==============================] - 0s 14ms/step - loss: 0.0014 - mean_squared_error: 0.0014 - val_loss: 4.2824e-04 - val_mean_squared_error: 4.2824e-04\n",
      "Epoch 52/100\n",
      "11/11 [==============================] - 0s 13ms/step - loss: 0.0015 - mean_squared_error: 0.0015 - val_loss: 4.0078e-04 - val_mean_squared_error: 4.0078e-04\n",
      "Epoch 53/100\n",
      "11/11 [==============================] - 0s 14ms/step - loss: 0.0017 - mean_squared_error: 0.0017 - val_loss: 7.6087e-04 - val_mean_squared_error: 7.6087e-04\n",
      "Epoch 54/100\n",
      "11/11 [==============================] - 0s 14ms/step - loss: 0.0018 - mean_squared_error: 0.0018 - val_loss: 5.1175e-04 - val_mean_squared_error: 5.1175e-04\n",
      "Epoch 55/100\n",
      "11/11 [==============================] - 0s 13ms/step - loss: 0.0016 - mean_squared_error: 0.0016 - val_loss: 4.3357e-04 - val_mean_squared_error: 4.3357e-04\n",
      "Epoch 56/100\n",
      "11/11 [==============================] - 0s 14ms/step - loss: 0.0015 - mean_squared_error: 0.0015 - val_loss: 3.9511e-04 - val_mean_squared_error: 3.9511e-04\n",
      "Epoch 57/100\n",
      "11/11 [==============================] - 0s 14ms/step - loss: 0.0014 - mean_squared_error: 0.0014 - val_loss: 4.7455e-04 - val_mean_squared_error: 4.7455e-04\n",
      "Epoch 58/100\n",
      "11/11 [==============================] - 0s 14ms/step - loss: 0.0015 - mean_squared_error: 0.0015 - val_loss: 6.3260e-04 - val_mean_squared_error: 6.3260e-04\n",
      "Epoch 59/100\n",
      "11/11 [==============================] - 0s 15ms/step - loss: 0.0016 - mean_squared_error: 0.0016 - val_loss: 4.7093e-04 - val_mean_squared_error: 4.7093e-04\n",
      "Epoch 60/100\n",
      "11/11 [==============================] - 0s 14ms/step - loss: 0.0015 - mean_squared_error: 0.0015 - val_loss: 4.1304e-04 - val_mean_squared_error: 4.1304e-04\n",
      "Epoch 61/100\n",
      "11/11 [==============================] - 0s 13ms/step - loss: 0.0016 - mean_squared_error: 0.0016 - val_loss: 4.9511e-04 - val_mean_squared_error: 4.9511e-04\n",
      "Epoch 62/100\n",
      "11/11 [==============================] - 0s 13ms/step - loss: 0.0014 - mean_squared_error: 0.0014 - val_loss: 4.4376e-04 - val_mean_squared_error: 4.4376e-04\n",
      "Epoch 63/100\n",
      "11/11 [==============================] - 0s 14ms/step - loss: 0.0014 - mean_squared_error: 0.0014 - val_loss: 3.9057e-04 - val_mean_squared_error: 3.9057e-04\n",
      "Epoch 64/100\n",
      "11/11 [==============================] - 0s 15ms/step - loss: 0.0014 - mean_squared_error: 0.0014 - val_loss: 4.3118e-04 - val_mean_squared_error: 4.3118e-04\n",
      "Epoch 65/100\n",
      "11/11 [==============================] - 0s 13ms/step - loss: 0.0015 - mean_squared_error: 0.0015 - val_loss: 4.4570e-04 - val_mean_squared_error: 4.4570e-04\n",
      "Epoch 66/100\n",
      "11/11 [==============================] - 0s 13ms/step - loss: 0.0013 - mean_squared_error: 0.0013 - val_loss: 7.9505e-04 - val_mean_squared_error: 7.9505e-04\n",
      "Epoch 67/100\n",
      "11/11 [==============================] - 0s 13ms/step - loss: 0.0015 - mean_squared_error: 0.0015 - val_loss: 5.8661e-04 - val_mean_squared_error: 5.8661e-04\n",
      "Epoch 68/100\n",
      "11/11 [==============================] - 0s 13ms/step - loss: 0.0014 - mean_squared_error: 0.0014 - val_loss: 4.2377e-04 - val_mean_squared_error: 4.2377e-04\n",
      "Epoch 69/100\n",
      "11/11 [==============================] - 0s 13ms/step - loss: 0.0015 - mean_squared_error: 0.0015 - val_loss: 3.8552e-04 - val_mean_squared_error: 3.8552e-04\n",
      "Epoch 70/100\n",
      "11/11 [==============================] - 0s 13ms/step - loss: 0.0015 - mean_squared_error: 0.0015 - val_loss: 3.8718e-04 - val_mean_squared_error: 3.8718e-04\n",
      "Epoch 71/100\n",
      "11/11 [==============================] - 0s 13ms/step - loss: 0.0013 - mean_squared_error: 0.0013 - val_loss: 4.1086e-04 - val_mean_squared_error: 4.1086e-04\n",
      "Epoch 72/100\n",
      "11/11 [==============================] - 0s 12ms/step - loss: 0.0014 - mean_squared_error: 0.0014 - val_loss: 4.3812e-04 - val_mean_squared_error: 4.3812e-04\n",
      "Epoch 73/100\n",
      "11/11 [==============================] - 0s 13ms/step - loss: 0.0013 - mean_squared_error: 0.0013 - val_loss: 3.8251e-04 - val_mean_squared_error: 3.8251e-04\n",
      "Epoch 74/100\n",
      "11/11 [==============================] - 0s 13ms/step - loss: 0.0013 - mean_squared_error: 0.0013 - val_loss: 4.9012e-04 - val_mean_squared_error: 4.9012e-04\n",
      "Epoch 75/100\n",
      "11/11 [==============================] - 0s 13ms/step - loss: 0.0012 - mean_squared_error: 0.0012 - val_loss: 3.9108e-04 - val_mean_squared_error: 3.9108e-04\n",
      "Epoch 76/100\n",
      "11/11 [==============================] - 0s 13ms/step - loss: 0.0013 - mean_squared_error: 0.0013 - val_loss: 3.8411e-04 - val_mean_squared_error: 3.8411e-04\n",
      "Epoch 77/100\n",
      "11/11 [==============================] - 0s 14ms/step - loss: 0.0014 - mean_squared_error: 0.0014 - val_loss: 3.8273e-04 - val_mean_squared_error: 3.8273e-04\n",
      "Epoch 78/100\n",
      "11/11 [==============================] - 0s 13ms/step - loss: 0.0014 - mean_squared_error: 0.0014 - val_loss: 4.3891e-04 - val_mean_squared_error: 4.3891e-04\n",
      "Epoch 79/100\n",
      "11/11 [==============================] - 0s 13ms/step - loss: 0.0013 - mean_squared_error: 0.0013 - val_loss: 3.8328e-04 - val_mean_squared_error: 3.8328e-04\n",
      "Epoch 80/100\n",
      "11/11 [==============================] - 0s 13ms/step - loss: 0.0013 - mean_squared_error: 0.0013 - val_loss: 4.0396e-04 - val_mean_squared_error: 4.0396e-04\n",
      "Epoch 81/100\n",
      "11/11 [==============================] - 0s 13ms/step - loss: 0.0014 - mean_squared_error: 0.0014 - val_loss: 3.9583e-04 - val_mean_squared_error: 3.9583e-04\n",
      "Epoch 82/100\n",
      "11/11 [==============================] - 0s 12ms/step - loss: 0.0013 - mean_squared_error: 0.0013 - val_loss: 4.3082e-04 - val_mean_squared_error: 4.3082e-04\n",
      "Epoch 83/100\n",
      "11/11 [==============================] - 0s 13ms/step - loss: 0.0014 - mean_squared_error: 0.0014 - val_loss: 4.1141e-04 - val_mean_squared_error: 4.1141e-04\n",
      "Epoch 84/100\n",
      "11/11 [==============================] - 0s 12ms/step - loss: 0.0012 - mean_squared_error: 0.0012 - val_loss: 3.9946e-04 - val_mean_squared_error: 3.9946e-04\n",
      "Epoch 85/100\n",
      "11/11 [==============================] - 0s 13ms/step - loss: 0.0014 - mean_squared_error: 0.0014 - val_loss: 4.3331e-04 - val_mean_squared_error: 4.3331e-04\n",
      "Epoch 86/100\n",
      "11/11 [==============================] - 0s 13ms/step - loss: 0.0013 - mean_squared_error: 0.0013 - val_loss: 4.0864e-04 - val_mean_squared_error: 4.0864e-04\n",
      "Epoch 87/100\n",
      "11/11 [==============================] - 0s 13ms/step - loss: 0.0012 - mean_squared_error: 0.0012 - val_loss: 3.7779e-04 - val_mean_squared_error: 3.7779e-04\n",
      "Epoch 88/100\n",
      "11/11 [==============================] - 0s 13ms/step - loss: 0.0013 - mean_squared_error: 0.0013 - val_loss: 3.9617e-04 - val_mean_squared_error: 3.9617e-04\n",
      "Epoch 89/100\n",
      "11/11 [==============================] - 0s 13ms/step - loss: 0.0013 - mean_squared_error: 0.0013 - val_loss: 3.7579e-04 - val_mean_squared_error: 3.7579e-04\n",
      "Epoch 90/100\n",
      "11/11 [==============================] - 0s 13ms/step - loss: 0.0012 - mean_squared_error: 0.0012 - val_loss: 5.1615e-04 - val_mean_squared_error: 5.1615e-04\n",
      "Epoch 91/100\n",
      "11/11 [==============================] - 0s 13ms/step - loss: 0.0013 - mean_squared_error: 0.0013 - val_loss: 3.7481e-04 - val_mean_squared_error: 3.7481e-04\n",
      "Epoch 92/100\n",
      "11/11 [==============================] - 0s 13ms/step - loss: 0.0012 - mean_squared_error: 0.0012 - val_loss: 4.2107e-04 - val_mean_squared_error: 4.2107e-04\n",
      "Epoch 93/100\n",
      "11/11 [==============================] - 0s 14ms/step - loss: 0.0013 - mean_squared_error: 0.0013 - val_loss: 5.3398e-04 - val_mean_squared_error: 5.3398e-04\n",
      "Epoch 94/100\n",
      "11/11 [==============================] - 0s 12ms/step - loss: 0.0012 - mean_squared_error: 0.0012 - val_loss: 4.0247e-04 - val_mean_squared_error: 4.0247e-04\n",
      "Epoch 95/100\n",
      "11/11 [==============================] - 0s 13ms/step - loss: 0.0012 - mean_squared_error: 0.0012 - val_loss: 3.7487e-04 - val_mean_squared_error: 3.7487e-04\n",
      "Epoch 96/100\n",
      "11/11 [==============================] - 0s 13ms/step - loss: 0.0012 - mean_squared_error: 0.0012 - val_loss: 3.9850e-04 - val_mean_squared_error: 3.9850e-04\n",
      "Epoch 97/100\n",
      "11/11 [==============================] - 0s 12ms/step - loss: 0.0013 - mean_squared_error: 0.0013 - val_loss: 4.3955e-04 - val_mean_squared_error: 4.3955e-04\n",
      "Epoch 98/100\n",
      "11/11 [==============================] - 0s 12ms/step - loss: 0.0011 - mean_squared_error: 0.0011 - val_loss: 4.1256e-04 - val_mean_squared_error: 4.1256e-04\n",
      "Epoch 99/100\n",
      "11/11 [==============================] - 0s 12ms/step - loss: 0.0011 - mean_squared_error: 0.0011 - val_loss: 3.9544e-04 - val_mean_squared_error: 3.9544e-04\n",
      "Epoch 100/100\n",
      "11/11 [==============================] - 0s 12ms/step - loss: 0.0012 - mean_squared_error: 0.0012 - val_loss: 4.2990e-04 - val_mean_squared_error: 4.2990e-04\n"
     ]
    }
   ],
   "source": [
    "history = model.fit(trainX,trainY,epochs=100,batch_size=128, verbose=1, validation_data = (valX,valY))"
   ]
  },
  {
   "cell_type": "code",
   "execution_count": 39,
   "id": "3c3e493c",
   "metadata": {
    "execution": {
     "iopub.execute_input": "2022-07-12T10:08:21.425336Z",
     "iopub.status.busy": "2022-07-12T10:08:21.424349Z",
     "iopub.status.idle": "2022-07-12T10:08:23.227970Z",
     "shell.execute_reply": "2022-07-12T10:08:23.225990Z"
    },
    "papermill": {
     "duration": 1.84792,
     "end_time": "2022-07-12T10:08:23.230895",
     "exception": false,
     "start_time": "2022-07-12T10:08:21.382975",
     "status": "completed"
    },
    "tags": []
   },
   "outputs": [
    {
     "name": "stdout",
     "output_type": "stream",
     "text": [
      "Train Score:\n",
      "MSE: 0.00019 , RMSE: 0.01\n",
      "Validation Score:\n",
      "MSE: 0.00043 , RMSE: 0.02\n",
      "Test Score:\n",
      "MSE: 0.00028 , RMSE: 0.02\n"
     ]
    }
   ],
   "source": [
    "import math\n",
    "\n",
    "def model_score(model, X_train, y_train, X_val, y_val , X_test, y_test):\n",
    "    print('Train Score:')\n",
    "    train_score = model.evaluate(X_train, y_train, verbose=0)\n",
    "    print(\"MSE: {:.5f} , RMSE: {:.2f}\".format(train_score[0], math.sqrt(train_score[0])))\n",
    "\n",
    "    print('Validation Score:')\n",
    "    val_score = model.evaluate(X_val, y_val, verbose=0)\n",
    "    print(\"MSE: {:.5f} , RMSE: {:.2f}\".format (val_score[0], math.sqrt(val_score[0])))\n",
    "\n",
    "    print('Test Score:')\n",
    "    test_score = model.evaluate(X_test, y_test, verbose=0)\n",
    "    print(\"MSE: {:.5f} , RMSE: {:.2f}\".format (test_score[0], math.sqrt(test_score[0])))\n",
    "\n",
    "\n",
    "model_score(model, trainX, trainY ,valX, valY , testX, testY)"
   ]
  },
  {
   "cell_type": "code",
   "execution_count": 40,
   "id": "e86c1019",
   "metadata": {
    "execution": {
     "iopub.execute_input": "2022-07-12T10:08:23.311024Z",
     "iopub.status.busy": "2022-07-12T10:08:23.310218Z",
     "iopub.status.idle": "2022-07-12T10:08:24.635672Z",
     "shell.execute_reply": "2022-07-12T10:08:24.634451Z"
    },
    "papermill": {
     "duration": 1.36869,
     "end_time": "2022-07-12T10:08:24.638682",
     "exception": false,
     "start_time": "2022-07-12T10:08:23.269992",
     "status": "completed"
    },
    "tags": []
   },
   "outputs": [],
   "source": [
    "pred=model.predict(testX)"
   ]
  },
  {
   "cell_type": "code",
   "execution_count": 41,
   "id": "8f612a2e",
   "metadata": {
    "execution": {
     "iopub.execute_input": "2022-07-12T10:08:24.720728Z",
     "iopub.status.busy": "2022-07-12T10:08:24.719999Z",
     "iopub.status.idle": "2022-07-12T10:08:24.730015Z",
     "shell.execute_reply": "2022-07-12T10:08:24.729191Z"
    },
    "papermill": {
     "duration": 0.053934,
     "end_time": "2022-07-12T10:08:24.732215",
     "exception": false,
     "start_time": "2022-07-12T10:08:24.678281",
     "status": "completed"
    },
    "tags": []
   },
   "outputs": [
    {
     "data": {
      "text/plain": [
       "array([[105.018715],\n",
       "       [104.535034],\n",
       "       [103.86693 ],\n",
       "       [ 99.36669 ],\n",
       "       [ 95.29557 ],\n",
       "       [ 93.60902 ],\n",
       "       [ 93.18909 ],\n",
       "       [ 94.1695  ],\n",
       "       [ 94.01864 ],\n",
       "       [ 93.07213 ],\n",
       "       [ 92.42098 ],\n",
       "       [ 92.29793 ],\n",
       "       [ 92.73545 ],\n",
       "       [ 92.341255],\n",
       "       [ 90.61525 ],\n",
       "       [ 90.02668 ],\n",
       "       [ 92.29965 ],\n",
       "       [ 93.13589 ],\n",
       "       [ 93.71307 ],\n",
       "       [ 93.82389 ],\n",
       "       [ 94.37764 ],\n",
       "       [ 95.503624],\n",
       "       [ 96.860535],\n",
       "       [ 98.46358 ],\n",
       "       [ 99.53637 ],\n",
       "       [ 99.752014],\n",
       "       [ 99.411995],\n",
       "       [ 98.33703 ],\n",
       "       [ 97.39946 ],\n",
       "       [ 97.291214],\n",
       "       [ 97.821365],\n",
       "       [ 98.31302 ],\n",
       "       [ 98.383316],\n",
       "       [ 98.819275],\n",
       "       [ 98.51157 ],\n",
       "       [ 97.26996 ],\n",
       "       [ 96.86654 ],\n",
       "       [ 96.69545 ],\n",
       "       [ 96.86083 ],\n",
       "       [ 95.53651 ],\n",
       "       [ 94.66554 ],\n",
       "       [ 95.123146],\n",
       "       [ 95.149376],\n",
       "       [ 95.3939  ],\n",
       "       [ 93.797775],\n",
       "       [ 92.02524 ],\n",
       "       [ 92.60341 ],\n",
       "       [ 93.640335],\n",
       "       [ 94.69232 ],\n",
       "       [ 95.27219 ],\n",
       "       [ 94.77493 ],\n",
       "       [ 94.83779 ],\n",
       "       [ 95.282326],\n",
       "       [ 95.90119 ],\n",
       "       [ 96.33789 ],\n",
       "       [ 96.723755],\n",
       "       [ 96.50535 ],\n",
       "       [ 97.586586],\n",
       "       [ 98.200935],\n",
       "       [ 98.88546 ],\n",
       "       [ 99.25071 ],\n",
       "       [ 99.322525],\n",
       "       [ 99.00462 ],\n",
       "       [ 98.32913 ],\n",
       "       [ 97.21497 ],\n",
       "       [ 96.34819 ],\n",
       "       [100.24563 ],\n",
       "       [103.17634 ],\n",
       "       [103.5381  ],\n",
       "       [104.69529 ],\n",
       "       [104.26283 ],\n",
       "       [104.6126  ],\n",
       "       [105.084724],\n",
       "       [106.15783 ],\n",
       "       [107.251274],\n",
       "       [107.82134 ],\n",
       "       [107.43596 ],\n",
       "       [107.131676],\n",
       "       [107.27171 ],\n",
       "       [108.19552 ],\n",
       "       [108.54554 ],\n",
       "       [108.40984 ],\n",
       "       [108.26796 ],\n",
       "       [108.404945],\n",
       "       [107.942726],\n",
       "       [107.89203 ],\n",
       "       [107.46823 ],\n",
       "       [106.90737 ],\n",
       "       [106.3508  ],\n",
       "       [106.07117 ],\n",
       "       [105.49931 ],\n",
       "       [105.30171 ],\n",
       "       [105.74368 ],\n",
       "       [106.5956  ],\n",
       "       [106.89592 ],\n",
       "       [107.3151  ],\n",
       "       [105.68001 ],\n",
       "       [103.21273 ],\n",
       "       [103.951294],\n",
       "       [106.32573 ],\n",
       "       [109.60692 ],\n",
       "       [113.27878 ],\n",
       "       [114.063614],\n",
       "       [112.99326 ],\n",
       "       [112.561905],\n",
       "       [112.54582 ],\n",
       "       [113.230255],\n",
       "       [112.33632 ],\n",
       "       [111.83994 ],\n",
       "       [112.02966 ],\n",
       "       [112.651855],\n",
       "       [111.781204],\n",
       "       [111.7815  ],\n",
       "       [111.71523 ],\n",
       "       [111.85717 ],\n",
       "       [112.04191 ],\n",
       "       [112.60041 ],\n",
       "       [112.9766  ],\n",
       "       [114.31403 ],\n",
       "       [115.10462 ],\n",
       "       [115.853   ],\n",
       "       [115.949745],\n",
       "       [116.254196],\n",
       "       [116.40784 ],\n",
       "       [116.33116 ],\n",
       "       [116.08082 ],\n",
       "       [115.93176 ],\n",
       "       [115.616844],\n",
       "       [116.147125],\n",
       "       [116.864075],\n",
       "       [115.34247 ],\n",
       "       [113.78621 ],\n",
       "       [112.944176],\n",
       "       [112.586945],\n",
       "       [111.20483 ],\n",
       "       [110.61783 ],\n",
       "       [109.509834],\n",
       "       [108.30687 ],\n",
       "       [109.009346],\n",
       "       [109.930916],\n",
       "       [110.02129 ],\n",
       "       [107.960434],\n",
       "       [107.38933 ],\n",
       "       [105.82601 ],\n",
       "       [105.86597 ],\n",
       "       [108.18475 ],\n",
       "       [109.077805],\n",
       "       [109.13637 ],\n",
       "       [110.25335 ],\n",
       "       [110.830086],\n",
       "       [110.48344 ],\n",
       "       [110.66455 ],\n",
       "       [110.7003  ],\n",
       "       [110.559135],\n",
       "       [109.915474],\n",
       "       [108.94851 ],\n",
       "       [108.88598 ],\n",
       "       [108.50438 ],\n",
       "       [108.7972  ],\n",
       "       [109.76495 ],\n",
       "       [110.814476],\n",
       "       [112.343994],\n",
       "       [112.5049  ],\n",
       "       [113.51878 ],\n",
       "       [114.11742 ],\n",
       "       [114.52346 ],\n",
       "       [114.81937 ],\n",
       "       [115.29825 ],\n",
       "       [115.70945 ],\n",
       "       [115.87809 ],\n",
       "       [115.41729 ],\n",
       "       [115.322105],\n",
       "       [115.871   ],\n",
       "       [115.78295 ]], dtype=float32)"
      ]
     },
     "execution_count": 41,
     "metadata": {},
     "output_type": "execute_result"
    }
   ],
   "source": [
    "pred=scaler.inverse_transform(pred)\n",
    "pred"
   ]
  },
  {
   "cell_type": "code",
   "execution_count": 42,
   "id": "c41f5c01",
   "metadata": {
    "execution": {
     "iopub.execute_input": "2022-07-12T10:08:24.813978Z",
     "iopub.status.busy": "2022-07-12T10:08:24.813229Z",
     "iopub.status.idle": "2022-07-12T10:08:24.819521Z",
     "shell.execute_reply": "2022-07-12T10:08:24.818703Z"
    },
    "papermill": {
     "duration": 0.051266,
     "end_time": "2022-07-12T10:08:24.823117",
     "exception": false,
     "start_time": "2022-07-12T10:08:24.771851",
     "status": "completed"
    },
    "tags": []
   },
   "outputs": [
    {
     "name": "stdout",
     "output_type": "stream",
     "text": [
      "[[105.08]\n",
      " [104.35]\n",
      " [ 97.82]\n",
      " [ 94.83]\n",
      " [ 93.74]\n",
      " [ 93.64]\n",
      " [ 95.18]\n",
      " [ 94.19]\n",
      " [ 93.24]\n",
      " [ 92.72]]\n"
     ]
    }
   ],
   "source": [
    "testY_actual = testY.reshape(testY.shape[0] , 1)\n",
    "testY_actual = scaler.inverse_transform(testY_actual)\n",
    "print(testY_actual[:10])"
   ]
  },
  {
   "cell_type": "code",
   "execution_count": 43,
   "id": "b251bd09",
   "metadata": {
    "execution": {
     "iopub.execute_input": "2022-07-12T10:08:24.907255Z",
     "iopub.status.busy": "2022-07-12T10:08:24.906635Z",
     "iopub.status.idle": "2022-07-12T10:08:25.140527Z",
     "shell.execute_reply": "2022-07-12T10:08:25.139182Z"
    },
    "papermill": {
     "duration": 0.277242,
     "end_time": "2022-07-12T10:08:25.143172",
     "exception": false,
     "start_time": "2022-07-12T10:08:24.865930",
     "status": "completed"
    },
    "tags": []
   },
   "outputs": [
    {
     "data": {
      "image/png": "[encoded data removed]",
      "text/plain": [
       "<Figure size 432x288 with 1 Axes>"
      ]
     },
     "metadata": {
      "needs_background": "light"
     },
     "output_type": "display_data"
    }
   ],
   "source": [
    "plt.plot(testY_actual , 'b')\n",
    "plt.plot(pred , 'r')\n",
    "\n",
    "plt.xlabel('Time')\n",
    "plt.ylabel('Stock Prices')\n",
    "plt.title('Check the performance of the model with time')\n",
    "plt.legend(['Actual', 'Predicted'], loc='upper left')\n",
    "\n",
    "plt.grid(True)\n",
    "plt.show()"
   ]
  }
 ],
 "metadata": {
  "kernelspec": {
   "display_name": "Python 3",
   "language": "python",
   "name": "python3"
  },
  "language_info": {
   "codemirror_mode": {
    "name": "ipython",
    "version": 3
   },
   "file_extension": ".py",
   "mimetype": "text/x-python",
   "name": "python",
   "nbconvert_exporter": "python",
   "pygments_lexer": "ipython3",
   "version": "3.7.12"
  },
  "papermill": {
   "default_parameters": {},
   "duration": 58.874522,
   "end_time": "2022-07-12T10:08:28.621913",
   "environment_variables": {},
   "exception": null,
   "input_path": "__notebook__.ipynb",
   "output_path": "__notebook__.ipynb",
   "parameters": {},
   "start_time": "2022-07-12T10:07:29.747391",
   "version": "2.3.4"
  }
 },
 "nbformat": 4,
 "nbformat_minor": 5
}
